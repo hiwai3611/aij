{
  "nbformat": 4,
  "nbformat_minor": 0,
  "metadata": {
    "colab": {
      "name": "aijcc4_復習_t1.ipynb",
      "version": "0.3.2",
      "provenance": [],
      "collapsed_sections": []
    },
    "kernelspec": {
      "name": "python3",
      "display_name": "Python 3"
    },
    "accelerator": "GPU"
  },
  "cells": [
    {
      "metadata": {
        "id": "WNisuAKqPMb4",
        "colab_type": "code",
        "outputId": "99b4b2bf-fc69-479a-9838-68187373b4c6",
        "colab": {
          "base_uri": "https://localhost:8080/",
          "height": 18834
        }
      },
      "cell_type": "code",
      "source": [
        "! wget https://www.dropbox.com/s/gfq7j9fhfihv3fd/dataset_train.json -O dataset_train.json\n",
        "! wget https://www.dropbox.com/s/lv6xa80h5524spj/dataset_test.json -O dataset_test.json\n",
        "! wget https://www.dropbox.com/s/wgyetw38nav2rvd/dataset.zip\n",
        "! unzip dataset.zip"
      ],
      "execution_count": 1,
      "outputs": [
        {
          "output_type": "stream",
          "text": [
            "--2019-04-27 19:00:04--  https://www.dropbox.com/s/gfq7j9fhfihv3fd/dataset_train.json\n",
            "Resolving www.dropbox.com (www.dropbox.com)... 162.125.65.1, 2620:100:6021:1::a27d:4101\n",
            "Connecting to www.dropbox.com (www.dropbox.com)|162.125.65.1|:443... connected.\n",
            "HTTP request sent, awaiting response... 301 Moved Permanently\n",
            "Location: /s/raw/gfq7j9fhfihv3fd/dataset_train.json [following]\n",
            "--2019-04-27 19:00:10--  https://www.dropbox.com/s/raw/gfq7j9fhfihv3fd/dataset_train.json\n",
            "Reusing existing connection to www.dropbox.com:443.\n",
            "HTTP request sent, awaiting response... 302 Found\n",
            "Location: https://uc8a11aafc301751fe10acdf4360.dl.dropboxusercontent.com/cd/0/inline/Af21GDmKWAza5iEY3ssXIMGYHlmQdhrpGhQIVVhcQfkGRUeKD_aojXahuG29tB_l5m1oGXhQNHZtfFUKfBrJfHCF3k8U1VTAfw_mmBEx0wTJbjqdXvOtaAfnXTuXKTyu0Y8/file# [following]\n",
            "--2019-04-27 19:00:10--  https://uc8a11aafc301751fe10acdf4360.dl.dropboxusercontent.com/cd/0/inline/Af21GDmKWAza5iEY3ssXIMGYHlmQdhrpGhQIVVhcQfkGRUeKD_aojXahuG29tB_l5m1oGXhQNHZtfFUKfBrJfHCF3k8U1VTAfw_mmBEx0wTJbjqdXvOtaAfnXTuXKTyu0Y8/file\n",
            "Resolving uc8a11aafc301751fe10acdf4360.dl.dropboxusercontent.com (uc8a11aafc301751fe10acdf4360.dl.dropboxusercontent.com)... 162.125.65.6, 2620:100:6021:6::a27d:4106\n",
            "Connecting to uc8a11aafc301751fe10acdf4360.dl.dropboxusercontent.com (uc8a11aafc301751fe10acdf4360.dl.dropboxusercontent.com)|162.125.65.6|:443... connected.\n",
            "HTTP request sent, awaiting response... 200 OK\n",
            "Length: 307820 (301K) [text/plain]\n",
            "Saving to: ‘dataset_train.json’\n",
            "\n",
            "dataset_train.json  100%[===================>] 300.61K  1.24MB/s    in 0.2s    \n",
            "\n",
            "2019-04-27 19:00:11 (1.24 MB/s) - ‘dataset_train.json’ saved [307820/307820]\n",
            "\n",
            "--2019-04-27 19:00:12--  https://www.dropbox.com/s/lv6xa80h5524spj/dataset_test.json\n",
            "Resolving www.dropbox.com (www.dropbox.com)... 162.125.65.1, 2620:100:6021:1::a27d:4101\n",
            "Connecting to www.dropbox.com (www.dropbox.com)|162.125.65.1|:443... connected.\n",
            "HTTP request sent, awaiting response... 301 Moved Permanently\n",
            "Location: /s/raw/lv6xa80h5524spj/dataset_test.json [following]\n",
            "--2019-04-27 19:00:12--  https://www.dropbox.com/s/raw/lv6xa80h5524spj/dataset_test.json\n",
            "Reusing existing connection to www.dropbox.com:443.\n",
            "HTTP request sent, awaiting response... 302 Found\n",
            "Location: https://ucab3d9676394fe0070cb01336d5.dl.dropboxusercontent.com/cd/0/inline/Af3g3HUTKOb5RlpXgEEtHt6aE6HF1uxOResCltuf2GTbGLKPXppCZya2Ap8ahlgLXjwIMZDw2e7R1G7elRd0C3VIm08s4UhrbuPhq71PvnHqnXWdWSc-yqSJpjEUUbexLTk/file# [following]\n",
            "--2019-04-27 19:00:12--  https://ucab3d9676394fe0070cb01336d5.dl.dropboxusercontent.com/cd/0/inline/Af3g3HUTKOb5RlpXgEEtHt6aE6HF1uxOResCltuf2GTbGLKPXppCZya2Ap8ahlgLXjwIMZDw2e7R1G7elRd0C3VIm08s4UhrbuPhq71PvnHqnXWdWSc-yqSJpjEUUbexLTk/file\n",
            "Resolving ucab3d9676394fe0070cb01336d5.dl.dropboxusercontent.com (ucab3d9676394fe0070cb01336d5.dl.dropboxusercontent.com)... 162.125.65.6, 2620:100:6021:6::a27d:4106\n",
            "Connecting to ucab3d9676394fe0070cb01336d5.dl.dropboxusercontent.com (ucab3d9676394fe0070cb01336d5.dl.dropboxusercontent.com)|162.125.65.6|:443... connected.\n",
            "HTTP request sent, awaiting response... 200 OK\n",
            "Length: 34266 (33K) [text/plain]\n",
            "Saving to: ‘dataset_test.json’\n",
            "\n",
            "dataset_test.json   100%[===================>]  33.46K  --.-KB/s    in 0.02s   \n",
            "\n",
            "2019-04-27 19:00:12 (1.62 MB/s) - ‘dataset_test.json’ saved [34266/34266]\n",
            "\n",
            "--2019-04-27 19:00:14--  https://www.dropbox.com/s/wgyetw38nav2rvd/dataset.zip\n",
            "Resolving www.dropbox.com (www.dropbox.com)... 162.125.65.1, 2620:100:6021:1::a27d:4101\n",
            "Connecting to www.dropbox.com (www.dropbox.com)|162.125.65.1|:443... connected.\n",
            "HTTP request sent, awaiting response... 301 Moved Permanently\n",
            "Location: /s/raw/wgyetw38nav2rvd/dataset.zip [following]\n",
            "--2019-04-27 19:00:14--  https://www.dropbox.com/s/raw/wgyetw38nav2rvd/dataset.zip\n",
            "Reusing existing connection to www.dropbox.com:443.\n",
            "HTTP request sent, awaiting response... 302 Found\n",
            "Location: https://uc79ce3ddcb197501405a771bda3.dl.dropboxusercontent.com/cd/0/inline/Af06JqjvJ_ab1T3YCagLgFhfATjnjFovL75qRk3RnjmwUA4dIlBXym9-ztJIjpFq69O8xRUuwyfgWQLQU7dO3sXC3NnFbohuKS_-kPqYQdFMXEfiuGd8DMGBruE--x_nRzU/file# [following]\n",
            "--2019-04-27 19:00:14--  https://uc79ce3ddcb197501405a771bda3.dl.dropboxusercontent.com/cd/0/inline/Af06JqjvJ_ab1T3YCagLgFhfATjnjFovL75qRk3RnjmwUA4dIlBXym9-ztJIjpFq69O8xRUuwyfgWQLQU7dO3sXC3NnFbohuKS_-kPqYQdFMXEfiuGd8DMGBruE--x_nRzU/file\n",
            "Resolving uc79ce3ddcb197501405a771bda3.dl.dropboxusercontent.com (uc79ce3ddcb197501405a771bda3.dl.dropboxusercontent.com)... 162.125.65.6, 2620:100:6021:6::a27d:4106\n",
            "Connecting to uc79ce3ddcb197501405a771bda3.dl.dropboxusercontent.com (uc79ce3ddcb197501405a771bda3.dl.dropboxusercontent.com)|162.125.65.6|:443... connected.\n",
            "HTTP request sent, awaiting response... 302 FOUND\n",
            "Location: /cd/0/inline2/Af0U4Du86e46JjNwQga59usO5IJ9HHYv8hKvghZM7UmydqC7uDa-FPaVPUFp-4zB4gO_zopfhzWNutSgKCJCsHXg-8nsKvsN8YQbn0xc_QwZBQ-Mp4O19McZJ2YboiYsCs7l0QCV1q3IifnwylL3oUmTMEpfixQ27ky5O1isDLK6guW8lgXYu4c7mf5ckbVwT2fytZRm7G82KRRFM3NCMIydTAC9wuIeoWBi4Qj2i5NOIyZX6rO4G39QbVjxH4VYRGW6nGq1EJb_wyC1hpEKxoulW8q1oXUvLfO-ooFejlxyzsUzSnJ5BlZSlr76dh-tJXkJS7CZZcOvCxcUsRq_1YYUECCNrd4z_d3BMPvb4d0rTw/file [following]\n",
            "--2019-04-27 19:00:15--  https://uc79ce3ddcb197501405a771bda3.dl.dropboxusercontent.com/cd/0/inline2/Af0U4Du86e46JjNwQga59usO5IJ9HHYv8hKvghZM7UmydqC7uDa-FPaVPUFp-4zB4gO_zopfhzWNutSgKCJCsHXg-8nsKvsN8YQbn0xc_QwZBQ-Mp4O19McZJ2YboiYsCs7l0QCV1q3IifnwylL3oUmTMEpfixQ27ky5O1isDLK6guW8lgXYu4c7mf5ckbVwT2fytZRm7G82KRRFM3NCMIydTAC9wuIeoWBi4Qj2i5NOIyZX6rO4G39QbVjxH4VYRGW6nGq1EJb_wyC1hpEKxoulW8q1oXUvLfO-ooFejlxyzsUzSnJ5BlZSlr76dh-tJXkJS7CZZcOvCxcUsRq_1YYUECCNrd4z_d3BMPvb4d0rTw/file\n",
            "Reusing existing connection to uc79ce3ddcb197501405a771bda3.dl.dropboxusercontent.com:443.\n",
            "HTTP request sent, awaiting response... 200 OK\n",
            "Length: 135835627 (130M) [application/zip]\n",
            "Saving to: ‘dataset.zip’\n",
            "\n",
            "dataset.zip         100%[===================>] 129.54M  59.6MB/s    in 2.2s    \n",
            "\n",
            "2019-04-27 19:00:18 (59.6 MB/s) - ‘dataset.zip’ saved [135835627/135835627]\n",
            "\n",
            "Archive:  dataset.zip\n",
            "   creating: dataset/\n",
            "   creating: dataset/train/\n",
            "  inflating: dataset/train/135.png   \n",
            "  inflating: dataset/train/81.png    \n",
            "  inflating: dataset/train/74.png    \n",
            "  inflating: dataset/train/70.png    \n",
            "  inflating: dataset/train/60.png    \n",
            "  inflating: dataset/train/407.png   \n",
            "  inflating: dataset/train/276.png   \n",
            "  inflating: dataset/train/274.png   \n",
            "  inflating: dataset/train/273.png   \n",
            "  inflating: dataset/train/272.png   \n",
            "  inflating: dataset/train/271.png   \n",
            "  inflating: dataset/train/269.png   \n",
            "  inflating: dataset/train/266.png   \n",
            "  inflating: dataset/train/265.png   \n",
            "  inflating: dataset/train/261.png   \n",
            "  inflating: dataset/train/258.png   \n",
            "  inflating: dataset/train/257.png   \n",
            "  inflating: dataset/train/256.png   \n",
            "  inflating: dataset/train/254.png   \n",
            "  inflating: dataset/train/253.png   \n",
            "  inflating: dataset/train/252.png   \n",
            "  inflating: dataset/train/251.png   \n",
            "  inflating: dataset/train/250.png   \n",
            "  inflating: dataset/train/249.png   \n",
            "  inflating: dataset/train/248.png   \n",
            "  inflating: dataset/train/247.png   \n",
            "  inflating: dataset/train/241.png   \n",
            "  inflating: dataset/train/236.png   \n",
            "  inflating: dataset/train/219.png   \n",
            "  inflating: dataset/train/218.png   \n",
            "  inflating: dataset/train/217.png   \n",
            "  inflating: dataset/train/209.png   \n",
            "  inflating: dataset/train/199.png   \n",
            "  inflating: dataset/train/194.png   \n",
            "  inflating: dataset/train/188.png   \n",
            "  inflating: dataset/train/91.png    \n",
            "  inflating: dataset/train/86.png    \n",
            "  inflating: dataset/train/76.png    \n",
            "  inflating: dataset/train/59.png    \n",
            "  inflating: dataset/train/181.png   \n",
            "  inflating: dataset/train/286.png   \n",
            "  inflating: dataset/train/283.png   \n",
            "  inflating: dataset/train/132.png   \n",
            "  inflating: dataset/train/129.png   \n",
            "  inflating: dataset/train/175.png   \n",
            "  inflating: dataset/train/167.png   \n",
            "  inflating: dataset/train/300.png   \n",
            "  inflating: dataset/train/278.png   \n",
            "  inflating: dataset/train/48.png    \n",
            "  inflating: dataset/train/47.png    \n",
            "  inflating: dataset/train/46.png    \n",
            "  inflating: dataset/train/45.png    \n",
            "  inflating: dataset/train/44.png    \n",
            "  inflating: dataset/train/43.png    \n",
            "  inflating: dataset/train/42.png    \n",
            "  inflating: dataset/train/41.png    \n",
            "  inflating: dataset/train/146.png   \n",
            "  inflating: dataset/train/134.png   \n",
            "  inflating: dataset/train/125.png   \n",
            "  inflating: dataset/train/118.png   \n",
            "  inflating: dataset/train/5.png     \n",
            "  inflating: dataset/train/3.png     \n",
            "  inflating: dataset/train/1.png     \n",
            "  inflating: dataset/train/0.png     \n",
            "  inflating: dataset/train/32.png    \n",
            "  inflating: dataset/train/31.png    \n",
            "  inflating: dataset/train/30.png    \n",
            "  inflating: dataset/train/29.png    \n",
            "  inflating: dataset/train/28.png    \n",
            "  inflating: dataset/train/27.png    \n",
            "  inflating: dataset/train/26.png    \n",
            "  inflating: dataset/train/25.png    \n",
            "  inflating: dataset/train/24.png    \n",
            "  inflating: dataset/train/23.png    \n",
            "  inflating: dataset/train/22.png    \n",
            "  inflating: dataset/train/21.png    \n",
            "  inflating: dataset/train/20.png    \n",
            "  inflating: dataset/train/19.png    \n",
            "  inflating: dataset/train/18.png    \n",
            "  inflating: dataset/train/17.png    \n",
            "  inflating: dataset/train/16.png    \n",
            "  inflating: dataset/train/15.png    \n",
            "  inflating: dataset/train/14.png    \n",
            "  inflating: dataset/train/13.png    \n",
            "  inflating: dataset/train/277.png   \n",
            "  inflating: dataset/train/112.png   \n",
            "  inflating: dataset/train/299.png   \n",
            "  inflating: dataset/train/105.png   \n",
            "  inflating: dataset/train/12.png    \n",
            "  inflating: dataset/train/101.png   \n",
            "  inflating: dataset/train/11.png    \n",
            "  inflating: dataset/train/296.png   \n",
            "  inflating: dataset/train/100.png   \n",
            "  inflating: dataset/train/10.png    \n",
            "  inflating: dataset/train/275.png   \n",
            "  inflating: dataset/train/270.png   \n",
            "  inflating: dataset/train/9.png     \n",
            "  inflating: dataset/train/8.png     \n",
            "  inflating: dataset/train/7.png     \n",
            "  inflating: dataset/train/4.png     \n",
            "  inflating: dataset/train/268.png   \n",
            "  inflating: dataset/train/88.png    \n",
            "  inflating: dataset/train/87.png    \n",
            "  inflating: dataset/train/73.png    \n",
            "  inflating: dataset/train/67.png    \n",
            "  inflating: dataset/train/66.png    \n",
            "  inflating: dataset/train/61.png    \n",
            "  inflating: dataset/train/2.png     \n",
            "  inflating: dataset/train/57.png    \n",
            "  inflating: dataset/train/128.png   \n",
            "  inflating: dataset/train/56.png    \n",
            "  inflating: dataset/train/55.png    \n",
            "  inflating: dataset/train/54.png    \n",
            "  inflating: dataset/train/40.png    \n",
            "  inflating: dataset/train/39.png    \n",
            "  inflating: dataset/train/53.png    \n",
            "  inflating: dataset/train/38.png    \n",
            "  inflating: dataset/train/37.png    \n",
            "  inflating: dataset/train/52.png    \n",
            "  inflating: dataset/train/36.png    \n",
            "  inflating: dataset/train/51.png    \n",
            "  inflating: dataset/train/35.png    \n",
            "  inflating: dataset/train/34.png    \n",
            "  inflating: dataset/train/50.png    \n",
            "  inflating: dataset/train/6.png     \n",
            "  inflating: dataset/train/33.png    \n",
            "  inflating: dataset/train/49.png    \n",
            "  inflating: dataset/train/126.png   \n",
            "  inflating: dataset/train/364.png   \n",
            "  inflating: dataset/train/216.png   \n",
            "  inflating: dataset/train/102.png   \n",
            "  inflating: dataset/train/212.png   \n",
            "  inflating: dataset/train/362.png   \n",
            "  inflating: dataset/train/357.png   \n",
            "  inflating: dataset/train/347.png   \n",
            "  inflating: dataset/train/331.png   \n",
            "  inflating: dataset/train/330.png   \n",
            "  inflating: dataset/train/399.png   \n",
            "  inflating: dataset/train/208.png   \n",
            "  inflating: dataset/train/207.png   \n",
            "  inflating: dataset/train/193.png   \n",
            "  inflating: dataset/train/398.png   \n",
            "  inflating: dataset/train/394.png   \n",
            "  inflating: dataset/train/191.png   \n",
            "  inflating: dataset/train/184.png   \n",
            "  inflating: dataset/train/393.png   \n",
            "  inflating: dataset/train/329.png   \n",
            "  inflating: dataset/train/316.png   \n",
            "  inflating: dataset/train/182.png   \n",
            "  inflating: dataset/train/310.png   \n",
            "  inflating: dataset/train/301.png   \n",
            "  inflating: dataset/train/180.png   \n",
            "  inflating: dataset/train/176.png   \n",
            "  inflating: dataset/train/171.png   \n",
            "  inflating: dataset/train/161.png   \n",
            "  inflating: dataset/train/149.png   \n",
            "  inflating: dataset/train/145.png   \n",
            "  inflating: dataset/train/138.png   \n",
            "  inflating: dataset/train/115.png   \n",
            "  inflating: dataset/train/106.png   \n",
            "  inflating: dataset/train/103.png   \n",
            "  inflating: dataset/train/97.png    \n",
            "  inflating: dataset/train/95.png    \n",
            "  inflating: dataset/train/93.png    \n",
            "  inflating: dataset/train/89.png    \n",
            "  inflating: dataset/train/77.png    \n",
            "  inflating: dataset/train/65.png    \n",
            "  inflating: dataset/train/242.png   \n",
            "  inflating: dataset/train/237.png   \n",
            "  inflating: dataset/train/228.png   \n",
            "  inflating: dataset/train/227.png   \n",
            "  inflating: dataset/train/213.png   \n",
            "  inflating: dataset/train/200.png   \n",
            "  inflating: dataset/train/197.png   \n",
            "  inflating: dataset/train/183.png   \n",
            "  inflating: dataset/train/178.png   \n",
            "  inflating: dataset/train/177.png   \n",
            "  inflating: dataset/train/169.png   \n",
            "  inflating: dataset/train/168.png   \n",
            "  inflating: dataset/train/163.png   \n",
            "  inflating: dataset/train/160.png   \n",
            "  inflating: dataset/train/158.png   \n",
            "  inflating: dataset/train/151.png   \n",
            "  inflating: dataset/train/147.png   \n",
            "  inflating: dataset/train/140.png   \n",
            "  inflating: dataset/train/136.png   \n",
            "  inflating: dataset/train/133.png   \n",
            "  inflating: dataset/train/172.png   \n",
            "  inflating: dataset/train/123.png   \n",
            "  inflating: dataset/train/116.png   \n",
            "  inflating: dataset/train/292.png   \n",
            "  inflating: dataset/train/290.png   \n",
            "  inflating: dataset/train/289.png   \n",
            "  inflating: dataset/train/170.png   \n",
            "  inflating: dataset/train/389.png   \n",
            "  inflating: dataset/train/386.png   \n",
            "  inflating: dataset/train/166.png   \n",
            "  inflating: dataset/train/380.png   \n",
            "  inflating: dataset/train/376.png   \n",
            "  inflating: dataset/train/479.png   \n",
            "  inflating: dataset/train/375.png   \n",
            "  inflating: dataset/train/162.png   \n",
            "  inflating: dataset/train/157.png   \n",
            "  inflating: dataset/train/374.png   \n",
            "  inflating: dataset/train/288.png   \n",
            "  inflating: dataset/train/373.png   \n",
            "  inflating: dataset/train/372.png   \n",
            "  inflating: dataset/train/370.png   \n",
            "  inflating: dataset/train/367.png   \n",
            "  inflating: dataset/train/363.png   \n",
            "  inflating: dataset/train/361.png   \n",
            "  inflating: dataset/train/155.png   \n",
            "  inflating: dataset/train/358.png   \n",
            "  inflating: dataset/train/356.png   \n",
            "  inflating: dataset/train/355.png   \n",
            "  inflating: dataset/train/354.png   \n",
            "  inflating: dataset/train/365.png   \n",
            "  inflating: dataset/train/353.png   \n",
            "  inflating: dataset/train/336.png   \n",
            "  inflating: dataset/train/144.png   \n",
            "  inflating: dataset/train/326.png   \n",
            "  inflating: dataset/train/141.png   \n",
            "  inflating: dataset/train/139.png   \n",
            "  inflating: dataset/train/109.png   \n",
            "  inflating: dataset/train/107.png   \n",
            "  inflating: dataset/train/98.png    \n",
            "  inflating: dataset/train/92.png    \n",
            "  inflating: dataset/train/243.png   \n",
            "  inflating: dataset/train/234.png   \n",
            "  inflating: dataset/train/231.png   \n",
            "  inflating: dataset/train/226.png   \n",
            "  inflating: dataset/train/223.png   \n",
            "  inflating: dataset/train/220.png   \n",
            "  inflating: dataset/train/210.png   \n",
            "  inflating: dataset/train/204.png   \n",
            "  inflating: dataset/train/203.png   \n",
            "  inflating: dataset/train/202.png   \n",
            "  inflating: dataset/train/201.png   \n",
            "  inflating: dataset/train/196.png   \n",
            "  inflating: dataset/train/192.png   \n",
            "  inflating: dataset/train/186.png   \n",
            "  inflating: dataset/train/185.png   \n",
            "  inflating: dataset/train/165.png   \n",
            "  inflating: dataset/train/164.png   \n",
            "  inflating: dataset/train/159.png   \n",
            "  inflating: dataset/train/148.png   \n",
            "  inflating: dataset/train/143.png   \n",
            "  inflating: dataset/train/142.png   \n",
            "  inflating: dataset/train/137.png   \n",
            "  inflating: dataset/train/130.png   \n",
            "  inflating: dataset/train/127.png   \n",
            "  inflating: dataset/train/124.png   \n",
            "  inflating: dataset/train/114.png   \n",
            "  inflating: dataset/train/110.png   \n",
            "  inflating: dataset/train/94.png    \n",
            "  inflating: dataset/train/85.png    \n",
            "  inflating: dataset/train/150.png   \n",
            "  inflating: dataset/train/121.png   \n",
            "  inflating: dataset/train/117.png   \n",
            "  inflating: dataset/train/113.png   \n",
            "  inflating: dataset/train/108.png   \n",
            "  inflating: dataset/train/82.png    \n",
            "  inflating: dataset/train/71.png    \n",
            "  inflating: dataset/train/78.png    \n",
            "  inflating: dataset/train/72.png    \n",
            "  inflating: dataset/train/90.png    \n",
            "  inflating: dataset/train/63.png    \n",
            "  inflating: dataset/train/58.png    \n",
            "  inflating: dataset/train/548.png   \n",
            "  inflating: dataset/train/412.png   \n",
            "  inflating: dataset/train/411.png   \n",
            "  inflating: dataset/train/408.png   \n",
            "  inflating: dataset/train/405.png   \n",
            "  inflating: dataset/train/403.png   \n",
            "  inflating: dataset/train/532.png   \n",
            "  inflating: dataset/train/547.png   \n",
            "  inflating: dataset/train/543.png   \n",
            "  inflating: dataset/train/542.png   \n",
            "  inflating: dataset/train/541.png   \n",
            "  inflating: dataset/train/538.png   \n",
            "  inflating: dataset/train/521.png   \n",
            "  inflating: dataset/train/537.png   \n",
            "  inflating: dataset/train/514.png   \n",
            "  inflating: dataset/train/511.png   \n",
            "  inflating: dataset/train/535.png   \n",
            "  inflating: dataset/train/533.png   \n",
            "  inflating: dataset/train/531.png   \n",
            "  inflating: dataset/train/530.png   \n",
            "  inflating: dataset/train/529.png   \n",
            "  inflating: dataset/train/402.png   \n",
            "  inflating: dataset/train/528.png   \n",
            "  inflating: dataset/train/527.png   \n",
            "  inflating: dataset/train/526.png   \n",
            "  inflating: dataset/train/524.png   \n",
            "  inflating: dataset/train/506.png   \n",
            "  inflating: dataset/train/495.png   \n",
            "  inflating: dataset/train/523.png   \n",
            "  inflating: dataset/train/360.png   \n",
            "  inflating: dataset/train/359.png   \n",
            "  inflating: dataset/train/350.png   \n",
            "  inflating: dataset/train/522.png   \n",
            "  inflating: dataset/train/315.png   \n",
            "  inflating: dataset/train/349.png   \n",
            "  inflating: dataset/train/346.png   \n",
            "  inflating: dataset/train/490.png   \n",
            "  inflating: dataset/train/401.png   \n",
            "  inflating: dataset/train/313.png   \n",
            "  inflating: dataset/train/339.png   \n",
            "  inflating: dataset/train/400.png   \n",
            "  inflating: dataset/train/328.png   \n",
            "  inflating: dataset/train/309.png   \n",
            "  inflating: dataset/train/325.png   \n",
            "  inflating: dataset/train/307.png   \n",
            "  inflating: dataset/train/520.png   \n",
            "  inflating: dataset/train/323.png   \n",
            "  inflating: dataset/train/462.png   \n",
            "  inflating: dataset/train/461.png   \n",
            "  inflating: dataset/train/366.png   \n",
            "  inflating: dataset/train/627.png   \n",
            "  inflating: dataset/train/321.png   \n",
            "  inflating: dataset/train/306.png   \n",
            "  inflating: dataset/train/623.png   \n",
            "  inflating: dataset/train/295.png   \n",
            "  inflating: dataset/train/291.png   \n",
            "  inflating: dataset/train/279.png   \n",
            "  inflating: dataset/train/311.png   \n",
            "  inflating: dataset/train/620.png   \n",
            "  inflating: dataset/train/302.png   \n",
            "  inflating: dataset/train/651.png   \n",
            "  inflating: dataset/train/650.png   \n",
            "  inflating: dataset/train/645.png   \n",
            "  inflating: dataset/train/643.png   \n",
            "  inflating: dataset/train/459.png   \n",
            "  inflating: dataset/train/456.png   \n",
            "  inflating: dataset/train/305.png   \n",
            "  inflating: dataset/train/294.png   \n",
            "  inflating: dataset/train/455.png   \n",
            "  inflating: dataset/train/454.png   \n",
            "  inflating: dataset/train/453.png   \n",
            "  inflating: dataset/train/452.png   \n",
            "  inflating: dataset/train/451.png   \n",
            "  inflating: dataset/train/450.png   \n",
            "  inflating: dataset/train/122.png   \n",
            "  inflating: dataset/train/293.png   \n",
            "  inflating: dataset/train/448.png   \n",
            "  inflating: dataset/train/447.png   \n",
            "  inflating: dataset/train/445.png   \n",
            "  inflating: dataset/train/246.png   \n",
            "  inflating: dataset/train/244.png   \n",
            "  inflating: dataset/train/287.png   \n",
            "  inflating: dataset/train/304.png   \n",
            "  inflating: dataset/train/504.png   \n",
            "  inflating: dataset/train/492.png   \n",
            "  inflating: dataset/train/481.png   \n",
            "  inflating: dataset/train/477.png   \n",
            "  inflating: dataset/train/119.png   \n",
            "  inflating: dataset/train/285.png   \n",
            "  inflating: dataset/train/282.png   \n",
            "  inflating: dataset/train/458.png   \n",
            "  inflating: dataset/train/449.png   \n",
            "  inflating: dataset/train/303.png   \n",
            "  inflating: dataset/train/446.png   \n",
            "  inflating: dataset/train/443.png   \n",
            "  inflating: dataset/train/260.png   \n",
            "  inflating: dataset/train/259.png   \n",
            "  inflating: dataset/train/111.png   \n",
            "  inflating: dataset/train/442.png   \n",
            "  inflating: dataset/train/238.png   \n",
            "  inflating: dataset/train/230.png   \n",
            "  inflating: dataset/train/298.png   \n",
            "  inflating: dataset/train/297.png   \n",
            "  inflating: dataset/train/229.png   \n",
            "  inflating: dataset/train/104.png   \n",
            "  inflating: dataset/train/441.png   \n",
            "  inflating: dataset/train/436.png   \n",
            "  inflating: dataset/train/435.png   \n",
            "  inflating: dataset/train/590.png   \n",
            "  inflating: dataset/train/232.png   \n",
            "  inflating: dataset/train/214.png   \n",
            "  inflating: dataset/train/205.png   \n",
            "  inflating: dataset/train/187.png   \n",
            "  inflating: dataset/train/483.png   \n",
            "  inflating: dataset/train/225.png   \n",
            "  inflating: dataset/train/224.png   \n",
            "  inflating: dataset/train/572.png   \n",
            "  inflating: dataset/train/571.png   \n",
            "  inflating: dataset/train/570.png   \n",
            "  inflating: dataset/train/569.png   \n",
            "  inflating: dataset/train/568.png   \n",
            "  inflating: dataset/train/567.png   \n",
            "  inflating: dataset/train/566.png   \n",
            "  inflating: dataset/train/565.png   \n",
            "  inflating: dataset/train/564.png   \n",
            "  inflating: dataset/train/591.png   \n",
            "  inflating: dataset/train/563.png   \n",
            "  inflating: dataset/train/562.png   \n",
            "  inflating: dataset/train/561.png   \n",
            "  inflating: dataset/train/560.png   \n",
            "  inflating: dataset/train/559.png   \n",
            "  inflating: dataset/train/557.png   \n",
            "  inflating: dataset/train/556.png   \n",
            "  inflating: dataset/train/433.png   \n",
            "  inflating: dataset/train/431.png   \n",
            "  inflating: dataset/train/429.png   \n",
            "  inflating: dataset/train/428.png   \n",
            "  inflating: dataset/train/427.png   \n",
            "  inflating: dataset/train/553.png   \n",
            "  inflating: dataset/train/552.png   \n",
            "  inflating: dataset/train/551.png   \n",
            "  inflating: dataset/train/550.png   \n",
            "  inflating: dataset/train/425.png   \n",
            "  inflating: dataset/train/424.png   \n",
            "  inflating: dataset/train/423.png   \n",
            "  inflating: dataset/train/422.png   \n",
            "  inflating: dataset/train/420.png   \n",
            "  inflating: dataset/train/419.png   \n",
            "  inflating: dataset/train/418.png   \n",
            "  inflating: dataset/train/416.png   \n",
            "  inflating: dataset/train/414.png   \n",
            "  inflating: dataset/train/413.png   \n",
            "  inflating: dataset/train/549.png   \n",
            "  inflating: dataset/train/469.png   \n",
            "  inflating: dataset/train/468.png   \n",
            "  inflating: dataset/train/464.png   \n",
            "  inflating: dataset/train/460.png   \n",
            "  inflating: dataset/train/546.png   \n",
            "  inflating: dataset/train/314.png   \n",
            "  inflating: dataset/train/312.png   \n",
            "  inflating: dataset/train/308.png   \n",
            "  inflating: dataset/train/545.png   \n",
            "  inflating: dataset/train/284.png   \n",
            "  inflating: dataset/train/281.png   \n",
            "  inflating: dataset/train/280.png   \n",
            "  inflating: dataset/train/267.png   \n",
            "  inflating: dataset/train/255.png   \n",
            "  inflating: dataset/train/235.png   \n",
            "  inflating: dataset/train/233.png   \n",
            "  inflating: dataset/train/215.png   \n",
            "  inflating: dataset/train/198.png   \n",
            "  inflating: dataset/train/195.png   \n",
            "  inflating: dataset/train/190.png   \n",
            "  inflating: dataset/train/189.png   \n",
            "  inflating: dataset/train/457.png   \n",
            "  inflating: dataset/train/152.png   \n",
            "  inflating: dataset/train/131.png   \n",
            "  inflating: dataset/train/120.png   \n",
            "  inflating: dataset/train/99.png    \n",
            "  inflating: dataset/train/96.png    \n",
            "  inflating: dataset/train/84.png    \n",
            "  inflating: dataset/train/83.png    \n",
            "  inflating: dataset/train/540.png   \n",
            "  inflating: dataset/train/444.png   \n",
            "  inflating: dataset/train/352.png   \n",
            "  inflating: dataset/train/351.png   \n",
            "  inflating: dataset/train/348.png   \n",
            "  inflating: dataset/train/345.png   \n",
            "  inflating: dataset/train/344.png   \n",
            "  inflating: dataset/train/343.png   \n",
            "  inflating: dataset/train/342.png   \n",
            "  inflating: dataset/train/341.png   \n",
            "  inflating: dataset/train/340.png   \n",
            "  inflating: dataset/train/338.png   \n",
            "  inflating: dataset/train/337.png   \n",
            "  inflating: dataset/train/335.png   \n",
            "  inflating: dataset/train/334.png   \n",
            "  inflating: dataset/train/333.png   \n",
            "  inflating: dataset/train/332.png   \n",
            "  inflating: dataset/train/327.png   \n",
            "  inflating: dataset/train/324.png   \n",
            "  inflating: dataset/train/322.png   \n",
            "  inflating: dataset/train/320.png   \n",
            "  inflating: dataset/train/319.png   \n",
            "  inflating: dataset/train/318.png   \n",
            "  inflating: dataset/train/317.png   \n",
            "  inflating: dataset/train/80.png    \n",
            "  inflating: dataset/train/79.png    \n",
            "  inflating: dataset/train/75.png    \n",
            "  inflating: dataset/train/69.png    \n",
            "  inflating: dataset/train/68.png    \n",
            "  inflating: dataset/train/64.png    \n",
            "  inflating: dataset/train/62.png    \n",
            "  inflating: dataset/train/264.png   \n",
            "  inflating: dataset/train/263.png   \n",
            "  inflating: dataset/train/262.png   \n",
            "  inflating: dataset/train/245.png   \n",
            "  inflating: dataset/train/239.png   \n",
            "  inflating: dataset/train/222.png   \n",
            "  inflating: dataset/train/211.png   \n",
            "  inflating: dataset/train/174.png   \n",
            "  inflating: dataset/train/173.png   \n",
            "  inflating: dataset/train/392.png   \n",
            "  inflating: dataset/train/391.png   \n",
            "  inflating: dataset/train/385.png   \n",
            "  inflating: dataset/train/381.png   \n",
            "  inflating: dataset/train/378.png   \n",
            "  inflating: dataset/train/371.png   \n",
            "  inflating: dataset/train/369.png   \n",
            "  inflating: dataset/train/368.png   \n",
            "  inflating: dataset/train/438.png   \n",
            "  inflating: dataset/train/432.png   \n",
            "  inflating: dataset/train/539.png   \n",
            "  inflating: dataset/train/558.png   \n",
            "  inflating: dataset/train/536.png   \n",
            "  inflating: dataset/train/555.png   \n",
            "  inflating: dataset/train/554.png   \n",
            "  inflating: dataset/train/240.png   \n",
            "  inflating: dataset/train/221.png   \n",
            "  inflating: dataset/train/206.png   \n",
            "  inflating: dataset/train/179.png   \n",
            "  inflating: dataset/train/156.png   \n",
            "  inflating: dataset/train/154.png   \n",
            "  inflating: dataset/train/153.png   \n",
            "  inflating: dataset/train/662.png   \n",
            "  inflating: dataset/train/660.png   \n",
            "  inflating: dataset/train/659.png   \n",
            "  inflating: dataset/train/657.png   \n",
            "  inflating: dataset/train/656.png   \n",
            "  inflating: dataset/train/654.png   \n",
            "  inflating: dataset/train/646.png   \n",
            "  inflating: dataset/train/463.png   \n",
            "  inflating: dataset/train/641.png   \n",
            "  inflating: dataset/train/640.png   \n",
            "  inflating: dataset/train/639.png   \n",
            "  inflating: dataset/train/638.png   \n",
            "  inflating: dataset/train/637.png   \n",
            "  inflating: dataset/train/636.png   \n",
            "  inflating: dataset/train/633.png   \n",
            "  inflating: dataset/train/632.png   \n",
            "  inflating: dataset/train/631.png   \n",
            "  inflating: dataset/train/749.png   \n",
            "  inflating: dataset/train/748.png   \n",
            "  inflating: dataset/train/747.png   \n",
            "  inflating: dataset/train/746.png   \n",
            "  inflating: dataset/train/745.png   \n",
            "  inflating: dataset/train/644.png   \n",
            "  inflating: dataset/train/744.png   \n",
            "  inflating: dataset/train/743.png   \n",
            "  inflating: dataset/train/509.png   \n",
            "  inflating: dataset/train/508.png   \n",
            "  inflating: dataset/train/629.png   \n",
            "  inflating: dataset/train/628.png   \n",
            "  inflating: dataset/train/626.png   \n",
            "  inflating: dataset/train/625.png   \n",
            "  inflating: dataset/train/624.png   \n",
            "  inflating: dataset/train/622.png   \n",
            "  inflating: dataset/train/619.png   \n",
            "  inflating: dataset/train/834.png   \n",
            "  inflating: dataset/train/742.png   \n",
            "  inflating: dataset/train/741.png   \n",
            "  inflating: dataset/train/740.png   \n",
            "  inflating: dataset/train/832.png   \n",
            "  inflating: dataset/train/823.png   \n",
            "  inflating: dataset/train/813.png   \n",
            "  inflating: dataset/train/739.png   \n",
            "  inflating: dataset/train/738.png   \n",
            "  inflating: dataset/train/507.png   \n",
            "  inflating: dataset/train/505.png   \n",
            "  inflating: dataset/train/503.png   \n",
            "  inflating: dataset/train/502.png   \n",
            "  inflating: dataset/train/501.png   \n",
            "  inflating: dataset/train/498.png   \n",
            "  inflating: dataset/train/497.png   \n",
            "  inflating: dataset/train/496.png   \n",
            "  inflating: dataset/train/494.png   \n",
            "  inflating: dataset/train/493.png   \n",
            "  inflating: dataset/train/491.png   \n",
            "  inflating: dataset/train/489.png   \n",
            "  inflating: dataset/train/488.png   \n",
            "  inflating: dataset/train/487.png   \n",
            "  inflating: dataset/train/486.png   \n",
            "  inflating: dataset/train/485.png   \n",
            "  inflating: dataset/train/484.png   \n",
            "  inflating: dataset/train/482.png   \n",
            "  inflating: dataset/train/480.png   \n",
            "  inflating: dataset/train/478.png   \n",
            "  inflating: dataset/train/476.png   \n",
            "  inflating: dataset/train/474.png   \n",
            "  inflating: dataset/train/470.png   \n",
            "  inflating: dataset/train/808.png   \n",
            "  inflating: dataset/train/799.png   \n",
            "  inflating: dataset/train/737.png   \n",
            "  inflating: dataset/train/734.png   \n",
            "  inflating: dataset/train/798.png   \n",
            "  inflating: dataset/train/796.png   \n",
            "  inflating: dataset/train/731.png   \n",
            "  inflating: dataset/train/791.png   \n",
            "  inflating: dataset/train/790.png   \n",
            "  inflating: dataset/train/789.png   \n",
            "  inflating: dataset/train/788.png   \n",
            "  inflating: dataset/train/787.png   \n",
            "  inflating: dataset/train/653.png   \n",
            "  inflating: dataset/train/786.png   \n",
            "  inflating: dataset/train/794.png   \n",
            "  inflating: dataset/train/792.png   \n",
            "  inflating: dataset/train/785.png   \n",
            "  inflating: dataset/train/635.png   \n",
            "  inflating: dataset/train/618.png   \n",
            "  inflating: dataset/train/616.png   \n",
            "  inflating: dataset/train/613.png   \n",
            "  inflating: dataset/train/612.png   \n",
            "  inflating: dataset/train/611.png   \n",
            "  inflating: dataset/train/610.png   \n",
            "  inflating: dataset/train/609.png   \n",
            "  inflating: dataset/train/467.png   \n",
            "  inflating: dataset/train/466.png   \n",
            "  inflating: dataset/train/608.png   \n",
            "  inflating: dataset/train/607.png   \n",
            "  inflating: dataset/train/606.png   \n",
            "  inflating: dataset/train/605.png   \n",
            "  inflating: dataset/train/604.png   \n",
            "  inflating: dataset/train/603.png   \n",
            "  inflating: dataset/train/602.png   \n",
            "  inflating: dataset/train/601.png   \n",
            "  inflating: dataset/train/600.png   \n",
            "  inflating: dataset/train/599.png   \n",
            "  inflating: dataset/train/598.png   \n",
            "  inflating: dataset/train/596.png   \n",
            "  inflating: dataset/train/595.png   \n",
            "  inflating: dataset/train/594.png   \n",
            "  inflating: dataset/train/593.png   \n",
            "  inflating: dataset/train/589.png   \n",
            "  inflating: dataset/train/587.png   \n",
            "  inflating: dataset/train/586.png   \n",
            "  inflating: dataset/train/585.png   \n",
            "  inflating: dataset/train/440.png   \n",
            "  inflating: dataset/train/439.png   \n",
            "  inflating: dataset/train/437.png   \n",
            "  inflating: dataset/train/434.png   \n",
            "  inflating: dataset/train/584.png   \n",
            "  inflating: dataset/train/583.png   \n",
            "  inflating: dataset/train/582.png   \n",
            "  inflating: dataset/train/592.png   \n",
            "  inflating: dataset/train/580.png   \n",
            "  inflating: dataset/train/579.png   \n",
            "  inflating: dataset/train/578.png   \n",
            "  inflating: dataset/train/577.png   \n",
            "  inflating: dataset/train/576.png   \n",
            "  inflating: dataset/train/575.png   \n",
            "  inflating: dataset/train/574.png   \n",
            "  inflating: dataset/train/573.png   \n",
            "  inflating: dataset/train/775.png   \n",
            "  inflating: dataset/train/774.png   \n",
            "  inflating: dataset/train/773.png   \n",
            "  inflating: dataset/train/772.png   \n",
            "  inflating: dataset/train/771.png   \n",
            "  inflating: dataset/train/770.png   \n",
            "  inflating: dataset/train/697.png   \n",
            "  inflating: dataset/train/695.png   \n",
            "  inflating: dataset/train/693.png   \n",
            "  inflating: dataset/train/692.png   \n",
            "  inflating: dataset/train/688.png   \n",
            "  inflating: dataset/train/682.png   \n",
            "  inflating: dataset/train/680.png   \n",
            "  inflating: dataset/train/679.png   \n",
            "  inflating: dataset/train/677.png   \n",
            "  inflating: dataset/train/675.png   \n",
            "  inflating: dataset/train/674.png   \n",
            "  inflating: dataset/train/673.png   \n",
            "  inflating: dataset/train/672.png   \n",
            "  inflating: dataset/train/670.png   \n",
            "  inflating: dataset/train/664.png   \n",
            "  inflating: dataset/train/661.png   \n",
            "  inflating: dataset/train/655.png   \n",
            "  inflating: dataset/train/815.png   \n",
            "  inflating: dataset/train/696.png   \n",
            "  inflating: dataset/train/690.png   \n",
            "  inflating: dataset/train/814.png   \n",
            "  inflating: dataset/train/811.png   \n",
            "  inflating: dataset/train/769.png   \n",
            "  inflating: dataset/train/768.png   \n",
            "  inflating: dataset/train/810.png   \n",
            "  inflating: dataset/train/822.png   \n",
            "  inflating: dataset/train/821.png   \n",
            "  inflating: dataset/train/767.png   \n",
            "  inflating: dataset/train/820.png   \n",
            "  inflating: dataset/train/819.png   \n",
            "  inflating: dataset/train/807.png   \n",
            "  inflating: dataset/train/803.png   \n",
            "  inflating: dataset/train/801.png   \n",
            "  inflating: dataset/train/800.png   \n",
            "  inflating: dataset/train/797.png   \n",
            "  inflating: dataset/train/795.png   \n",
            "  inflating: dataset/train/793.png   \n",
            "  inflating: dataset/train/817.png   \n",
            "  inflating: dataset/train/816.png   \n",
            "  inflating: dataset/train/812.png   \n",
            "  inflating: dataset/train/809.png   \n",
            "  inflating: dataset/train/806.png   \n",
            "  inflating: dataset/train/805.png   \n",
            "  inflating: dataset/train/766.png   \n",
            "  inflating: dataset/train/765.png   \n",
            "  inflating: dataset/train/804.png   \n",
            "  inflating: dataset/train/802.png   \n",
            "  inflating: dataset/train/764.png   \n",
            "  inflating: dataset/train/685.png   \n",
            "  inflating: dataset/train/684.png   \n",
            "  inflating: dataset/train/678.png   \n",
            "  inflating: dataset/train/676.png   \n",
            "  inflating: dataset/train/665.png   \n",
            "  inflating: dataset/train/658.png   \n",
            "  inflating: dataset/train/647.png   \n",
            "  inflating: dataset/train/473.png   \n",
            "  inflating: dataset/train/472.png   \n",
            "  inflating: dataset/train/471.png   \n",
            "  inflating: dataset/train/763.png   \n",
            "  inflating: dataset/train/762.png   \n",
            "  inflating: dataset/train/730.png   \n",
            "  inflating: dataset/train/761.png   \n",
            "  inflating: dataset/train/760.png   \n",
            "  inflating: dataset/train/759.png   \n",
            "  inflating: dataset/train/758.png   \n",
            "  inflating: dataset/train/757.png   \n",
            "  inflating: dataset/train/728.png   \n",
            "  inflating: dataset/train/725.png   \n",
            "  inflating: dataset/train/756.png   \n",
            "  inflating: dataset/train/755.png   \n",
            "  inflating: dataset/train/717.png   \n",
            "  inflating: dataset/train/754.png   \n",
            "  inflating: dataset/train/465.png   \n",
            "  inflating: dataset/train/753.png   \n",
            "  inflating: dataset/train/715.png   \n",
            "  inflating: dataset/train/752.png   \n",
            "  inflating: dataset/train/711.png   \n",
            "  inflating: dataset/train/751.png   \n",
            "  inflating: dataset/train/707.png   \n",
            "  inflating: dataset/train/750.png   \n",
            "  inflating: dataset/train/702.png   \n",
            "  inflating: dataset/train/701.png   \n",
            "  inflating: dataset/train/699.png   \n",
            "  inflating: dataset/train/698.png   \n",
            "  inflating: dataset/train/694.png   \n",
            "  inflating: dataset/train/691.png   \n",
            "  inflating: dataset/train/689.png   \n",
            "  inflating: dataset/train/687.png   \n",
            "  inflating: dataset/train/683.png   \n",
            "  inflating: dataset/train/671.png   \n",
            "  inflating: dataset/train/669.png   \n",
            "  inflating: dataset/train/430.png   \n",
            "  inflating: dataset/train/426.png   \n",
            "  inflating: dataset/train/421.png   \n",
            "  inflating: dataset/train/417.png   \n",
            "  inflating: dataset/train/415.png   \n",
            "  inflating: dataset/train/410.png   \n",
            "  inflating: dataset/train/409.png   \n",
            "  inflating: dataset/train/406.png   \n",
            "  inflating: dataset/train/404.png   \n",
            "  inflating: dataset/train/397.png   \n",
            "  inflating: dataset/train/396.png   \n",
            "  inflating: dataset/train/395.png   \n",
            "  inflating: dataset/train/390.png   \n",
            "  inflating: dataset/train/388.png   \n",
            "  inflating: dataset/train/387.png   \n",
            "  inflating: dataset/train/384.png   \n",
            "  inflating: dataset/train/383.png   \n",
            "  inflating: dataset/train/382.png   \n",
            "  inflating: dataset/train/379.png   \n",
            "  inflating: dataset/train/377.png   \n",
            "  inflating: dataset/train/519.png   \n",
            "  inflating: dataset/train/518.png   \n",
            "  inflating: dataset/train/517.png   \n",
            "  inflating: dataset/train/515.png   \n",
            "  inflating: dataset/train/513.png   \n",
            "  inflating: dataset/train/512.png   \n",
            "  inflating: dataset/train/510.png   \n",
            "  inflating: dataset/train/668.png   \n",
            "  inflating: dataset/train/667.png   \n",
            "  inflating: dataset/train/666.png   \n",
            "  inflating: dataset/train/663.png   \n",
            "  inflating: dataset/train/886.png   \n",
            "  inflating: dataset/train/885.png   \n",
            "  inflating: dataset/train/884.png   \n",
            "  inflating: dataset/train/881.png   \n",
            "  inflating: dataset/train/880.png   \n",
            "  inflating: dataset/train/878.png   \n",
            "  inflating: dataset/train/877.png   \n",
            "  inflating: dataset/train/875.png   \n",
            "  inflating: dataset/train/873.png   \n",
            "  inflating: dataset/train/872.png   \n",
            "  inflating: dataset/train/870.png   \n",
            "  inflating: dataset/train/869.png   \n",
            "  inflating: dataset/train/867.png   \n",
            "  inflating: dataset/train/864.png   \n",
            "  inflating: dataset/train/863.png   \n",
            "  inflating: dataset/train/862.png   \n",
            "  inflating: dataset/train/860.png   \n",
            "  inflating: dataset/train/856.png   \n",
            "  inflating: dataset/train/855.png   \n",
            "  inflating: dataset/train/854.png   \n",
            "  inflating: dataset/train/853.png   \n",
            "  inflating: dataset/train/852.png   \n",
            "  inflating: dataset/train/851.png   \n",
            "  inflating: dataset/train/850.png   \n",
            "  inflating: dataset/train/849.png   \n",
            "  inflating: dataset/train/846.png   \n",
            "  inflating: dataset/train/899.png   \n",
            "  inflating: dataset/train/898.png   \n",
            "  inflating: dataset/train/897.png   \n",
            "  inflating: dataset/train/896.png   \n",
            "  inflating: dataset/train/895.png   \n",
            "  inflating: dataset/train/894.png   \n",
            "  inflating: dataset/train/893.png   \n",
            "  inflating: dataset/train/892.png   \n",
            "  inflating: dataset/train/686.png   \n",
            "  inflating: dataset/train/681.png   \n",
            "  inflating: dataset/train/648.png   \n",
            "  inflating: dataset/train/642.png   \n",
            "  inflating: dataset/train/634.png   \n",
            "  inflating: dataset/train/630.png   \n",
            "  inflating: dataset/train/621.png   \n",
            "  inflating: dataset/train/617.png   \n",
            "  inflating: dataset/train/615.png   \n",
            "  inflating: dataset/train/614.png   \n",
            "  inflating: dataset/train/597.png   \n",
            "  inflating: dataset/train/588.png   \n",
            "  inflating: dataset/train/581.png   \n",
            "  inflating: dataset/train/544.png   \n",
            "  inflating: dataset/train/534.png   \n",
            "  inflating: dataset/train/525.png   \n",
            "  inflating: dataset/train/516.png   \n",
            "  inflating: dataset/train/500.png   \n",
            "  inflating: dataset/train/499.png   \n",
            "  inflating: dataset/train/475.png   \n",
            "  inflating: dataset/train/652.png   \n",
            "  inflating: dataset/train/649.png   \n",
            "  inflating: dataset/train/736.png   \n",
            "  inflating: dataset/train/735.png   \n",
            "  inflating: dataset/train/733.png   \n",
            "  inflating: dataset/train/732.png   \n",
            "  inflating: dataset/train/729.png   \n",
            "  inflating: dataset/train/727.png   \n",
            "  inflating: dataset/train/726.png   \n",
            "  inflating: dataset/train/724.png   \n",
            "  inflating: dataset/train/723.png   \n",
            "  inflating: dataset/train/722.png   \n",
            "  inflating: dataset/train/721.png   \n",
            "  inflating: dataset/train/720.png   \n",
            "  inflating: dataset/train/719.png   \n",
            "  inflating: dataset/train/718.png   \n",
            "  inflating: dataset/train/716.png   \n",
            "  inflating: dataset/train/714.png   \n",
            "  inflating: dataset/train/713.png   \n",
            "  inflating: dataset/train/712.png   \n",
            "  inflating: dataset/train/710.png   \n",
            "  inflating: dataset/train/709.png   \n",
            "  inflating: dataset/train/708.png   \n",
            "  inflating: dataset/train/706.png   \n",
            "  inflating: dataset/train/705.png   \n",
            "  inflating: dataset/train/891.png   \n",
            "  inflating: dataset/train/845.png   \n",
            "  inflating: dataset/train/843.png   \n",
            "  inflating: dataset/train/841.png   \n",
            "  inflating: dataset/train/840.png   \n",
            "  inflating: dataset/train/837.png   \n",
            "  inflating: dataset/train/836.png   \n",
            "  inflating: dataset/train/835.png   \n",
            "  inflating: dataset/train/883.png   \n",
            "  inflating: dataset/train/882.png   \n",
            "  inflating: dataset/train/879.png   \n",
            "  inflating: dataset/train/876.png   \n",
            "  inflating: dataset/train/874.png   \n",
            "  inflating: dataset/train/871.png   \n",
            "  inflating: dataset/train/868.png   \n",
            "  inflating: dataset/train/866.png   \n",
            "  inflating: dataset/train/865.png   \n",
            "  inflating: dataset/train/861.png   \n",
            "  inflating: dataset/train/859.png   \n",
            "  inflating: dataset/train/858.png   \n",
            "  inflating: dataset/train/704.png   \n",
            "  inflating: dataset/train/857.png   \n",
            "  inflating: dataset/train/848.png   \n",
            "  inflating: dataset/train/847.png   \n",
            "  inflating: dataset/train/844.png   \n",
            "  inflating: dataset/train/842.png   \n",
            "  inflating: dataset/train/839.png   \n",
            "  inflating: dataset/train/838.png   \n",
            "  inflating: dataset/train/833.png   \n",
            "  inflating: dataset/train/831.png   \n",
            "  inflating: dataset/train/830.png   \n",
            "  inflating: dataset/train/829.png   \n",
            "  inflating: dataset/train/828.png   \n",
            "  inflating: dataset/train/827.png   \n",
            "  inflating: dataset/train/825.png   \n",
            "  inflating: dataset/train/824.png   \n",
            "  inflating: dataset/train/826.png   \n",
            "  inflating: dataset/train/703.png   \n",
            "  inflating: dataset/train/700.png   \n",
            "  inflating: dataset/train/784.png   \n",
            "  inflating: dataset/train/783.png   \n",
            "  inflating: dataset/train/782.png   \n",
            "  inflating: dataset/train/781.png   \n",
            "  inflating: dataset/train/818.png   \n",
            "  inflating: dataset/train/780.png   \n",
            "  inflating: dataset/train/779.png   \n",
            "  inflating: dataset/train/778.png   \n",
            "  inflating: dataset/train/777.png   \n",
            "  inflating: dataset/train/776.png   \n",
            "  inflating: dataset/train/890.png   \n",
            "  inflating: dataset/train/889.png   \n",
            "  inflating: dataset/train/888.png   \n",
            "  inflating: dataset/train/887.png   \n",
            "   creating: dataset/test/\n",
            "  inflating: dataset/test/99.png     \n",
            "  inflating: dataset/test/98.png     \n",
            "  inflating: dataset/test/97.png     \n",
            "  inflating: dataset/test/96.png     \n",
            "  inflating: dataset/test/95.png     \n",
            "  inflating: dataset/test/94.png     \n",
            "  inflating: dataset/test/93.png     \n",
            "  inflating: dataset/test/92.png     \n",
            "  inflating: dataset/test/91.png     \n",
            "  inflating: dataset/test/90.png     \n",
            "  inflating: dataset/test/89.png     \n",
            "  inflating: dataset/test/88.png     \n",
            "  inflating: dataset/test/87.png     \n",
            "  inflating: dataset/test/86.png     \n",
            "  inflating: dataset/test/85.png     \n",
            "  inflating: dataset/test/73.png     \n",
            "  inflating: dataset/test/72.png     \n",
            "  inflating: dataset/test/71.png     \n",
            "  inflating: dataset/test/70.png     \n",
            "  inflating: dataset/test/69.png     \n",
            "  inflating: dataset/test/68.png     \n",
            "  inflating: dataset/test/67.png     \n",
            "  inflating: dataset/test/66.png     \n",
            "  inflating: dataset/test/65.png     \n",
            "  inflating: dataset/test/64.png     \n",
            "  inflating: dataset/test/63.png     \n",
            "  inflating: dataset/test/62.png     \n",
            "  inflating: dataset/test/61.png     \n",
            "  inflating: dataset/test/60.png     \n",
            "  inflating: dataset/test/59.png     \n",
            "  inflating: dataset/test/58.png     \n",
            "  inflating: dataset/test/56.png     \n",
            "  inflating: dataset/test/55.png     \n",
            "  inflating: dataset/test/54.png     \n",
            "  inflating: dataset/test/53.png     \n",
            "  inflating: dataset/test/47.png     \n",
            "  inflating: dataset/test/45.png     \n",
            "  inflating: dataset/test/44.png     \n",
            "  inflating: dataset/test/42.png     \n",
            "  inflating: dataset/test/39.png     \n",
            "  inflating: dataset/test/38.png     \n",
            "  inflating: dataset/test/37.png     \n",
            "  inflating: dataset/test/34.png     \n",
            "  inflating: dataset/test/33.png     \n",
            "  inflating: dataset/test/30.png     \n",
            "  inflating: dataset/test/28.png     \n",
            "  inflating: dataset/test/27.png     \n",
            "  inflating: dataset/test/24.png     \n",
            "  inflating: dataset/test/23.png     \n",
            "  inflating: dataset/test/22.png     \n",
            "  inflating: dataset/test/21.png     \n",
            "  inflating: dataset/test/15.png     \n",
            "  inflating: dataset/test/13.png     \n",
            "  inflating: dataset/test/12.png     \n",
            "  inflating: dataset/test/11.png     \n",
            "  inflating: dataset/test/4.png      \n",
            "  inflating: dataset/test/2.png      \n",
            "  inflating: dataset/test/1.png      \n",
            "  inflating: dataset/test/0.png      \n",
            "  inflating: dataset/test/46.png     \n",
            "  inflating: dataset/test/41.png     \n",
            "  inflating: dataset/test/52.png     \n",
            "  inflating: dataset/test/51.png     \n",
            "  inflating: dataset/test/50.png     \n",
            "  inflating: dataset/test/29.png     \n",
            "  inflating: dataset/test/26.png     \n",
            "  inflating: dataset/test/49.png     \n",
            "  inflating: dataset/test/48.png     \n",
            "  inflating: dataset/test/84.png     \n",
            "  inflating: dataset/test/83.png     \n",
            "  inflating: dataset/test/82.png     \n",
            "  inflating: dataset/test/81.png     \n",
            "  inflating: dataset/test/80.png     \n",
            "  inflating: dataset/test/79.png     \n",
            "  inflating: dataset/test/78.png     \n",
            "  inflating: dataset/test/77.png     \n",
            "  inflating: dataset/test/25.png     \n",
            "  inflating: dataset/test/20.png     \n",
            "  inflating: dataset/test/19.png     \n",
            "  inflating: dataset/test/18.png     \n",
            "  inflating: dataset/test/17.png     \n",
            "  inflating: dataset/test/16.png     \n",
            "  inflating: dataset/test/14.png     \n",
            "  inflating: dataset/test/10.png     \n",
            "  inflating: dataset/test/9.png      \n",
            "  inflating: dataset/test/8.png      \n",
            "  inflating: dataset/test/6.png      \n",
            "  inflating: dataset/test/5.png      \n",
            "  inflating: dataset/test/3.png      \n",
            "  inflating: dataset/test/76.png     \n",
            "  inflating: dataset/test/75.png     \n",
            "  inflating: dataset/test/74.png     \n",
            "  inflating: dataset/test/43.png     \n",
            "  inflating: dataset/test/40.png     \n",
            "  inflating: dataset/test/36.png     \n",
            "  inflating: dataset/test/35.png     \n",
            "  inflating: dataset/test/32.png     \n",
            "  inflating: dataset/test/31.png     \n",
            "  inflating: dataset/test/7.png      \n",
            "  inflating: dataset/test/57.png     \n"
          ],
          "name": "stdout"
        }
      ]
    },
    {
      "metadata": {
        "id": "pwwbSvhZPjls",
        "colab_type": "code",
        "colab": {}
      },
      "cell_type": "code",
      "source": [
        "import os\n",
        "import json\n",
        "import numpy as np\n",
        "import cv2\n",
        "from PIL import Image\n",
        "from matplotlib import pyplot as plt"
      ],
      "execution_count": 0,
      "outputs": []
    },
    {
      "metadata": {
        "id": "oc4mG7XOR6hE",
        "colab_type": "code",
        "colab": {}
      },
      "cell_type": "code",
      "source": [
        "with open('dataset_train.json') as f:\n",
        "    dataset_train = json.load(f)"
      ],
      "execution_count": 0,
      "outputs": []
    },
    {
      "metadata": {
        "id": "Sqod6KnhVSW9",
        "colab_type": "code",
        "colab": {}
      },
      "cell_type": "code",
      "source": [
        "def show(img, figsize=(5, 5)): #画像をinput, 大きさも指定可能にしとく\n",
        "    plt.figure(figsize=figsize)\n",
        "    #plt.imgshow(img) # 色の変換が必要。opencv はRGBではなく、BGRで読み込んでしまうため\n",
        "    plt.imshow(cv2.cvtColor(img, cv2.COLOR_BGR2RGB))"
      ],
      "execution_count": 0,
      "outputs": []
    },
    {
      "metadata": {
        "id": "Uwtnl3x30YMv",
        "colab_type": "code",
        "colab": {}
      },
      "cell_type": "code",
      "source": [
        "# https://qiita.com/ka10ryu1/items/bb8f73a732e5da3a1abc\n",
        "#def cleary(img, clip_limit=3, grid=(8, 8), thresh=225):\n",
        "#    clahe = cv2.createCLAHE(clipLimit=clip_limit, tileGridSize=grid)\n",
        "#    dst = clahe.apply(img)\n",
        "#    th = dst.copy()\n",
        "#    th[dst > thresh] = 255\n",
        "#    return []"
      ],
      "execution_count": 0,
      "outputs": []
    },
    {
      "metadata": {
        "id": "9ENFHqc7aous",
        "colab_type": "code",
        "colab": {}
      },
      "cell_type": "code",
      "source": [
        "def trim_numbers(img, n_digits): #img:画像, n_digit:桁数\n",
        "    gray = cv2.cvtColor(img, cv2.COLOR_RGB2GRAY)\n",
        "    # gray = cleary(gray)\n",
        "  \n",
        "    # 文字の輪郭を取得するために二値化する(グレーではなく、白か黒)\n",
        "    # THRESH_OTSH は自動的に、白黒の閾値を決定する：auto\n",
        "    _, gray = cv2.threshold(gray, 0, 255, cv2.THRESH_BINARY+cv2.THRESH_OTSU)\n",
        "    # findContours の機能：輪郭抽出 \n",
        "    # http://lang.sist.chukyo-u.ac.jp/classes/OpenCV/py_tutorials/py_imgproc/py_contours/py_contours_begin/py_contours_begin.html\n",
        "    # https://docs.opencv.org/3.0-beta/modules/imgproc/doc/structural_analysis_and_shape_descriptors.html?highlight=cv2.find#cv2.findContours\n",
        "    #cv2.RETR_EXTERNAL: 一番外側の輪郭のみ抽出する。\n",
        "    #cv2.RETR_LIST: すべての輪郭を抽出するが、階層構造は作成しない。\n",
        "    #cv2.RETR_CCOMP: すべての輪郭を抽出し、2階層の階層構造を作成する。\n",
        "    #cv2.RETR_TREE: すべての輪郭を抽出し、ツリーで階層構造を作成する。\n",
        "    _, contours, hierarchy = cv2.findContours(gray,\n",
        "                                              cv2.RETR_LIST, #取得リスト\n",
        "#                                             cv2.RETR_TREE,\n",
        "#                                             cv2.RETR_CCOMP,\n",
        "                                              cv2.CHAIN_APPROX_SIMPLE) #シンプルな線で近似して囲う\n",
        "\n",
        "  #findContoursにて抽出した画像には、不要なものが含まれている\n",
        "  #数値の中の丸など面積の小さい領域を除去する\n",
        "  #cnt に除去後の画像を格納する方針\n",
        "    cnt = []\n",
        "    for c in contours: # contourAreaに引数を渡すと面積を返す\n",
        "        area = cv2.contourArea(c)\n",
        "        \n",
        "        # 20ピクセル未満は除外、20ピクセル以上はappend\n",
        "#        if area < 20:\n",
        "#            continue\n",
        "    \n",
        "        #内接する矩形。横長、縦長の線を除去する \n",
        "        x, y, w, h = cv2.boundingRect(c) \n",
        "        #幅か高さが100ピクセルのものを除去する\n",
        "        #cnt に除去後の画像を格納する\n",
        "        if w > 100 or h > 100:\n",
        "            continue\n",
        "        \n",
        "        cnt.append(c)\n",
        "    \n",
        "    #ノイズを除去するために上位○位(n_digits)の高さをもつ値を抽出する\n",
        "    #抽出の前に高さ順にソート。高さ順にソートすることで、数字の中の不要な○も除去できる\n",
        "    #幅よりも高さの方が大きな変動はない(1は幅が狭いなど)\n",
        "    cnt = sorted(cnt, key=lambda x: cv2.boundingRect(x)[-1])\n",
        "    cnt.reverse() #大きい順にソート\n",
        "    \n",
        "    #数値データは上位 n_digits まで抽出する\n",
        "    numbers = cnt[:n_digits]\n",
        "    \n",
        "    # 輪郭の出力\n",
        "    #show(cv2.drawContours(img.copy(), contours, -1, (0, 255, 0), 1)) #-1:全部出力, (色の指定：緑), 2:太線\n",
        "    show(cv2.drawContours(img.copy(), numbers, -1, (0, 255, 0), 1)) #-1:全部出力, (色の指定：緑), 2:太線\n",
        "    \n",
        "    #n_digit の桁数の抽出に失敗している場合はNoneを返す。そうでない場合はnumbersを返す\n",
        "    if len(numbers) != n_digits:\n",
        "        return None\n",
        "    return numbers\n",
        "\n",
        "# plt.figure()\n",
        "# plt.gray() # 白黒は白黒として表示する。これがないと、白が黄色く出力されてしまう\n",
        "# plt.imshow(cv2.cvtColor(img, cv2.COLOR_BGR2RGB))\n",
        "\n",
        "#  plt.imshow(gray) \n",
        "#  return []"
      ],
      "execution_count": 0,
      "outputs": []
    },
    {
      "metadata": {
        "id": "A3sKdriZYB9w",
        "colab_type": "code",
        "colab": {}
      },
      "cell_type": "code",
      "source": [
        "def get_rects(numbers):\n",
        "    #左から順にソートする（x座標でソート）\n",
        "    numbers = sorted(numbers, key=lambda x:cv2.boundingRect(x)[0])\n",
        "    result = []\n",
        "    \n",
        "    #enumerateを使うと、iは配列の数位、cはnumbersのi番目の要素\n",
        "    for i, c in enumerate(numbers): \n",
        "        x, y, w, h = cv2.boundingRect(c)\n",
        "        if h > w:\n",
        "            size = h\n",
        "            limit = w\n",
        "        else:\n",
        "            size = w\n",
        "            limit = h\n",
        "        p1 = int((size - limit) / 2)\n",
        "        p2 = int((size + limit) / 2)\n",
        "        rect_img = np.full((size, size, 3), 255, np.uint8)\n",
        "        if h < w:\n",
        "            rect_img[p1:p2, :] = img[y:y+h, x:x+w]\n",
        "        else:\n",
        "            rect_img[:, p1:p2] = img[y:y+h, x:x+w]\n",
        "            \n",
        "        rect_img = cv2.resize(rect_img, (28, 28))\n",
        "        result.append(rect_img)\n",
        "        show(rect_img, (1, 1))\n",
        "        \n",
        "    return result"
      ],
      "execution_count": 0,
      "outputs": []
    },
    {
      "metadata": {
        "id": "LIYf9vZD0BtM",
        "colab_type": "code",
        "colab": {}
      },
      "cell_type": "code",
      "source": [
        "#画像データをkerasのテンソルに変換(追加)する\n",
        "# rects: 四角の画像データ、label: 正解ラベル\n",
        "def append_dataset(X, y, rects, label):\n",
        "  #forループのzip : 複数のシーケンスオブジェクトに対して同時にループする。要素数が違う場合は一番少ないものに合わせられる\n",
        "    for r, n in zip(rects, str(label)):\n",
        "        m = r.reshape((1,) + r.shape) #1つの行列として、まとめる\n",
        "        X = np.append(X, m, axis=0) #axis=0を省略すると、変な行列になってしまう\n",
        "        y = np.append(y, [int(n)], axis=0)\n",
        "    return X, y"
      ],
      "execution_count": 0,
      "outputs": []
    },
    {
      "metadata": {
        "id": "ChJIfEJ1SFcB",
        "colab_type": "code",
        "outputId": "66dc3480-f7e5-4804-f654-2f619160b53f",
        "colab": {
          "base_uri": "https://localhost:8080/",
          "height": 5594
        }
      },
      "cell_type": "code",
      "source": [
        "#X, y の空の行列をつくる\n",
        "#X_train = np.empty((0, 28, 28, 3))\n",
        "#y_train = np.empty((0))\n",
        "\n",
        "for i in range(len(dataset_train)):\n",
        "    filename = dataset_train[i]['file']\n",
        "    label = dataset_train[i]['total']\n",
        "    n_digits = len(str(label)) #金額から桁数を算出する\n",
        "#    print(filename,label, n_digits)\n",
        "  \n",
        "    #imread       : 画像の読み込み(image readの略)\n",
        "    #os.path.join : ディレクトリのパスをOS環境を考慮した上で、最適な文字列で連結してくれる関数\n",
        "    img = cv2.imread(os.path.join('dataset/train', filename), 1) # 1: フルカラー、0:白黒画像\n",
        "    # image.shareで画像の.0幅と高さを取得する\n",
        "    height, width, _ = img.shape\n",
        "\n",
        "    #トリミングの実施\n",
        "    img = img[height-105:height-35, 110:width-45]\n",
        "    height, width, _ = img.shape\n",
        "  \n",
        "   # show(img, (10, 10)) # 数値は出力する画像の大きさ\n",
        "   # show(img) \n",
        "\n",
        "    numbers = trim_numbers(img, n_digits)\n",
        "    if not numbers: #numbersがnullの場合のエラー処理（失敗パターンを飛ばす）\n",
        "    #失敗パターンを表示するのも大事。もしくは失敗パターン用の処理を実施する\n",
        "        continue\n",
        "  \n",
        "    #矩形領域をとってくる（線のよせあつめではなくて、28 x 28 ピクセルにする）\n",
        "    #numbersはまだ緑色の寄せ集め\n",
        "    rects = get_rects(numbers)\n",
        "\n",
        "#    X_train, y_train = append_dataset(X_train, y_train, rects, label)\n",
        "\n",
        "#    np.save('X_train.npy', X_train)\n",
        "#    np.save('y_train.npy', y_train)\n",
        "    \n",
        "    if i > 10: #数値以上になったらブレイク\n",
        "        break #画像がループの数だけでてきてしまって大変なのでつける(1つだけ出力)\n",
        "  "
      ],
      "execution_count": 78,
      "outputs": [
        {
          "output_type": "stream",
          "text": [
            "/usr/local/lib/python3.6/dist-packages/matplotlib/pyplot.py:514: RuntimeWarning: More than 20 figures have been opened. Figures created through the pyplot interface (`matplotlib.pyplot.figure`) are retained until explicitly closed and may consume too much memory. (To control this warning, see the rcParam `figure.max_open_warning`).\n",
            "  max_open_warning, RuntimeWarning)\n"
          ],
          "name": "stderr"
        },
        {
          "output_type": "display_data",
          "data": {
            "image/png": "[encoded data removed]",
            "text/plain": [
              "<Figure size 360x360 with 1 Axes>"
            ]
          },
          "metadata": {
            "tags": []
          }
        },
        {
          "output_type": "display_data",
          "data": {
            "image/png": "[encoded data removed]",
            "text/plain": [
              "<Figure size 72x72 with 1 Axes>"
            ]
          },
          "metadata": {
            "tags": []
          }
        },
        {
          "output_type": "display_data",
          "data": {
            "image/png": "[encoded data removed]",
            "text/plain": [
              "<Figure size 72x72 with 1 Axes>"
            ]
          },
          "metadata": {
            "tags": []
          }
        },
        {
          "output_type": "display_data",
          "data": {
            "image/png": "[encoded data removed]",
            "text/plain": [
              "<Figure size 72x72 with 1 Axes>"
            ]
          },
          "metadata": {
            "tags": []
          }
        },
        {
          "output_type": "display_data",
          "data": {
            "image/png": "[encoded data removed]",
            "text/plain": [
              "<Figure size 360x360 with 1 Axes>"
            ]
          },
          "metadata": {
            "tags": []
          }
        },
        {
          "output_type": "display_data",
          "data": {
            "image/png": "[encoded data removed]",
            "text/plain": [
              "<Figure size 72x72 with 1 Axes>"
            ]
          },
          "metadata": {
            "tags": []
          }
        },
        {
          "output_type": "display_data",
          "data": {
            "image/png": "[encoded data removed]",
            "text/plain": [
              "<Figure size 72x72 with 1 Axes>"
            ]
          },
          "metadata": {
            "tags": []
          }
        },
        {
          "output_type": "display_data",
          "data": {
            "image/png": "[encoded data removed]",
            "text/plain": [
              "<Figure size 72x72 with 1 Axes>"
            ]
          },
          "metadata": {
            "tags": []
          }
        },
        {
          "output_type": "display_data",
          "data": {
            "image/png": "[encoded data removed]",
            "text/plain": [
              "<Figure size 72x72 with 1 Axes>"
            ]
          },
          "metadata": {
            "tags": []
          }
        },
        {
          "output_type": "display_data",
          "data": {
            "image/png": "[encoded data removed]",
            "text/plain": [
              "<Figure size 360x360 with 1 Axes>"
            ]
          },
          "metadata": {
            "tags": []
          }
        },
        {
          "output_type": "display_data",
          "data": {
            "image/png": "[encoded data removed]",
            "text/plain": [
              "<Figure size 72x72 with 1 Axes>"
            ]
          },
          "metadata": {
            "tags": []
          }
        },
        {
          "output_type": "display_data",
          "data": {
            "image/png": "[encoded data removed]",
            "text/plain": [
              "<Figure size 72x72 with 1 Axes>"
            ]
          },
          "metadata": {
            "tags": []
          }
        },
        {
          "output_type": "display_data",
          "data": {
            "image/png": "[encoded data removed]",
            "text/plain": [
              "<Figure size 72x72 with 1 Axes>"
            ]
          },
          "metadata": {
            "tags": []
          }
        },
        {
          "output_type": "display_data",
          "data": {
            "image/png": "[encoded data removed]",
            "text/plain": [
              "<Figure size 72x72 with 1 Axes>"
            ]
          },
          "metadata": {
            "tags": []
          }
        },
        {
          "output_type": "display_data",
          "data": {
            "image/png": "[encoded data removed]",
            "text/plain": [
              "<Figure size 360x360 with 1 Axes>"
            ]
          },
          "metadata": {
            "tags": []
          }
        },
        {
          "output_type": "display_data",
          "data": {
            "image/png": "[encoded data removed]",
            "text/plain": [
              "<Figure size 72x72 with 1 Axes>"
            ]
          },
          "metadata": {
            "tags": []
          }
        },
        {
          "output_type": "display_data",
          "data": {
            "image/png": "[encoded data removed]",
            "text/plain": [
              "<Figure size 72x72 with 1 Axes>"
            ]
          },
          "metadata": {
            "tags": []
          }
        },
        {
          "output_type": "display_data",
          "data": {
            "image/png": "[encoded data removed]",
            "text/plain": [
              "<Figure size 72x72 with 1 Axes>"
            ]
          },
          "metadata": {
            "tags": []
          }
        },
        {
          "output_type": "display_data",
          "data": {
            "image/png": "[encoded data removed]",
            "text/plain": [
              "<Figure size 72x72 with 1 Axes>"
            ]
          },
          "metadata": {
            "tags": []
          }
        },
        {
          "output_type": "display_data",
          "data": {
            "image/png": "[encoded data removed]",
            "text/plain": [
              "<Figure size 360x360 with 1 Axes>"
            ]
          },
          "metadata": {
            "tags": []
          }
        },
        {
          "output_type": "display_data",
          "data": {
            "image/png": "[encoded data removed]",
            "text/plain": [
              "<Figure size 72x72 with 1 Axes>"
            ]
          },
          "metadata": {
            "tags": []
          }
        },
        {
          "output_type": "display_data",
          "data": {
            "image/png": "[encoded data removed]",
            "text/plain": [
              "<Figure size 72x72 with 1 Axes>"
            ]
          },
          "metadata": {
            "tags": []
          }
        },
        {
          "output_type": "display_data",
          "data": {
            "image/png": "[encoded data removed]",
            "text/plain": [
              "<Figure size 72x72 with 1 Axes>"
            ]
          },
          "metadata": {
            "tags": []
          }
        },
        {
          "output_type": "display_data",
          "data": {
            "image/png": "[encoded data removed]",
            "text/plain": [
              "<Figure size 360x360 with 1 Axes>"
            ]
          },
          "metadata": {
            "tags": []
          }
        },
        {
          "output_type": "display_data",
          "data": {
            "image/png": "[encoded data removed]",
            "text/plain": [
              "<Figure size 72x72 with 1 Axes>"
            ]
          },
          "metadata": {
            "tags": []
          }
        },
        {
          "output_type": "display_data",
          "data": {
            "image/png": "[encoded data removed]",
            "text/plain": [
              "<Figure size 72x72 with 1 Axes>"
            ]
          },
          "metadata": {
            "tags": []
          }
        },
        {
          "output_type": "display_data",
          "data": {
            "image/png": "[encoded data removed]",
            "text/plain": [
              "<Figure size 72x72 with 1 Axes>"
            ]
          },
          "metadata": {
            "tags": []
          }
        },
        {
          "output_type": "display_data",
          "data": {
            "image/png": "[encoded data removed]",
            "text/plain": [
              "<Figure size 72x72 with 1 Axes>"
            ]
          },
          "metadata": {
            "tags": []
          }
        },
        {
          "output_type": "display_data",
          "data": {
            "image/png": "[encoded data removed]",
            "text/plain": [
              "<Figure size 360x360 with 1 Axes>"
            ]
          },
          "metadata": {
            "tags": []
          }
        },
        {
          "output_type": "display_data",
          "data": {
            "image/png": "[encoded data removed]",
            "text/plain": [
              "<Figure size 72x72 with 1 Axes>"
            ]
          },
          "metadata": {
            "tags": []
          }
        },
        {
          "output_type": "display_data",
          "data": {
            "image/png": "[encoded data removed]",
            "text/plain": [
              "<Figure size 72x72 with 1 Axes>"
            ]
          },
          "metadata": {
            "tags": []
          }
        },
        {
          "output_type": "display_data",
          "data": {
            "image/png": "[encoded data removed]",
            "text/plain": [
              "<Figure size 72x72 with 1 Axes>"
            ]
          },
          "metadata": {
            "tags": []
          }
        },
        {
          "output_type": "display_data",
          "data": {
            "image/png": "[encoded data removed]",
            "text/plain": [
              "<Figure size 72x72 with 1 Axes>"
            ]
          },
          "metadata": {
            "tags": []
          }
        },
        {
          "output_type": "display_data",
          "data": {
            "image/png": "[encoded data removed]",
            "text/plain": [
              "<Figure size 360x360 with 1 Axes>"
            ]
          },
          "metadata": {
            "tags": []
          }
        },
        {
          "output_type": "display_data",
          "data": {
            "image/png": "[encoded data removed]",
            "text/plain": [
              "<Figure size 72x72 with 1 Axes>"
            ]
          },
          "metadata": {
            "tags": []
          }
        },
        {
          "output_type": "display_data",
          "data": {
            "image/png": "[encoded data removed]",
            "text/plain": [
              "<Figure size 72x72 with 1 Axes>"
            ]
          },
          "metadata": {
            "tags": []
          }
        },
        {
          "output_type": "display_data",
          "data": {
            "image/png": "[encoded data removed]",
            "text/plain": [
              "<Figure size 72x72 with 1 Axes>"
            ]
          },
          "metadata": {
            "tags": []
          }
        },
        {
          "output_type": "display_data",
          "data": {
            "image/png": "[encoded data removed]",
            "text/plain": [
              "<Figure size 360x360 with 1 Axes>"
            ]
          },
          "metadata": {
            "tags": []
          }
        },
        {
          "output_type": "display_data",
          "data": {
            "image/png": "[encoded data removed]",
            "text/plain": [
              "<Figure size 72x72 with 1 Axes>"
            ]
          },
          "metadata": {
            "tags": []
          }
        },
        {
          "output_type": "display_data",
          "data": {
            "image/png": "[encoded data removed]",
            "text/plain": [
              "<Figure size 72x72 with 1 Axes>"
            ]
          },
          "metadata": {
            "tags": []
          }
        },
        {
          "output_type": "display_data",
          "data": {
            "image/png": "[encoded data removed]",
            "text/plain": [
              "<Figure size 72x72 with 1 Axes>"
            ]
          },
          "metadata": {
            "tags": []
          }
        },
        {
          "output_type": "display_data",
          "data": {
            "image/png": "[encoded data removed]",
            "text/plain": [
              "<Figure size 72x72 with 1 Axes>"
            ]
          },
          "metadata": {
            "tags": []
          }
        },
        {
          "output_type": "display_data",
          "data": {
            "image/png": "[encoded data removed]",
            "text/plain": [
              "<Figure size 360x360 with 1 Axes>"
            ]
          },
          "metadata": {
            "tags": []
          }
        },
        {
          "output_type": "display_data",
          "data": {
            "image/png": "[encoded data removed]",
            "text/plain": [
              "<Figure size 72x72 with 1 Axes>"
            ]
          },
          "metadata": {
            "tags": []
          }
        },
        {
          "output_type": "display_data",
          "data": {
            "image/png": "[encoded data removed]",
            "text/plain": [
              "<Figure size 72x72 with 1 Axes>"
            ]
          },
          "metadata": {
            "tags": []
          }
        },
        {
          "output_type": "display_data",
          "data": {
            "image/png": "[encoded data removed]",
            "text/plain": [
              "<Figure size 72x72 with 1 Axes>"
            ]
          },
          "metadata": {
            "tags": []
          }
        },
        {
          "output_type": "display_data",
          "data": {
            "image/png": "[encoded data removed]",
            "text/plain": [
              "<Figure size 72x72 with 1 Axes>"
            ]
          },
          "metadata": {
            "tags": []
          }
        },
        {
          "output_type": "display_data",
          "data": {
            "image/png": "[encoded data removed]",
            "text/plain": [
              "<Figure size 360x360 with 1 Axes>"
            ]
          },
          "metadata": {
            "tags": []
          }
        },
        {
          "output_type": "display_data",
          "data": {
            "image/png": "[encoded data removed]",
            "text/plain": [
              "<Figure size 72x72 with 1 Axes>"
            ]
          },
          "metadata": {
            "tags": []
          }
        },
        {
          "output_type": "display_data",
          "data": {
            "image/png": "[encoded data removed]",
            "text/plain": [
              "<Figure size 72x72 with 1 Axes>"
            ]
          },
          "metadata": {
            "tags": []
          }
        },
        {
          "output_type": "display_data",
          "data": {
            "image/png": "[encoded data removed]",
            "text/plain": [
              "<Figure size 72x72 with 1 Axes>"
            ]
          },
          "metadata": {
            "tags": []
          }
        },
        {
          "output_type": "display_data",
          "data": {
            "image/png": "[encoded data removed]",
            "text/plain": [
              "<Figure size 72x72 with 1 Axes>"
            ]
          },
          "metadata": {
            "tags": []
          }
        },
        {
          "output_type": "display_data",
          "data": {
            "image/png": "[encoded data removed]",
            "text/plain": [
              "<Figure size 360x360 with 1 Axes>"
            ]
          },
          "metadata": {
            "tags": []
          }
        },
        {
          "output_type": "display_data",
          "data": {
            "image/png": "[encoded data removed]",
            "text/plain": [
              "<Figure size 72x72 with 1 Axes>"
            ]
          },
          "metadata": {
            "tags": []
          }
        },
        {
          "output_type": "display_data",
          "data": {
            "image/png": "[encoded data removed]",
            "text/plain": [
              "<Figure size 72x72 with 1 Axes>"
            ]
          },
          "metadata": {
            "tags": []
          }
        },
        {
          "output_type": "display_data",
          "data": {
            "image/png": "[encoded data removed]",
            "text/plain": [
              "<Figure size 72x72 with 1 Axes>"
            ]
          },
          "metadata": {
            "tags": []
          }
        },
        {
          "output_type": "display_data",
          "data": {
            "image/png": "[encoded data removed]",
            "text/plain": [
              "<Figure size 72x72 with 1 Axes>"
            ]
          },
          "metadata": {
            "tags": []
          }
        }
      ]
    },
    {
      "metadata": {
        "id": "LMZY9awKzTR8",
        "colab_type": "code",
        "colab": {
          "base_uri": "https://localhost:8080/",
          "height": 312
        },
        "outputId": "e309e0ff-d44d-45fd-e66f-bbaa1012d626"
      },
      "cell_type": "code",
      "source": [
        "#from google.colab import files\n",
        "#files.download('X_train.npy')"
      ],
      "execution_count": 73,
      "outputs": [
        {
          "output_type": "error",
          "ename": "FileNotFoundError",
          "evalue": "ignored",
          "traceback": [
            "\u001b[0;31m---------------------------------------------------------------------------\u001b[0m",
            "\u001b[0;31mFileNotFoundError\u001b[0m                         Traceback (most recent call last)",
            "\u001b[0;32m<ipython-input-73-518a1b6c79fe>\u001b[0m in \u001b[0;36m<module>\u001b[0;34m()\u001b[0m\n\u001b[1;32m      1\u001b[0m \u001b[0;32mfrom\u001b[0m \u001b[0mgoogle\u001b[0m\u001b[0;34m.\u001b[0m\u001b[0mcolab\u001b[0m \u001b[0;32mimport\u001b[0m \u001b[0mfiles\u001b[0m\u001b[0;34m\u001b[0m\u001b[0;34m\u001b[0m\u001b[0m\n\u001b[0;32m----> 2\u001b[0;31m \u001b[0mfiles\u001b[0m\u001b[0;34m.\u001b[0m\u001b[0mdownload\u001b[0m\u001b[0;34m(\u001b[0m\u001b[0;34m'X_train.npy'\u001b[0m\u001b[0;34m)\u001b[0m\u001b[0;34m\u001b[0m\u001b[0;34m\u001b[0m\u001b[0m\n\u001b[0m",
            "\u001b[0;32m/usr/local/lib/python3.6/dist-packages/google/colab/files.py\u001b[0m in \u001b[0;36mdownload\u001b[0;34m(filename)\u001b[0m\n\u001b[1;32m    142\u001b[0m       \u001b[0;32mraise\u001b[0m \u001b[0mOSError\u001b[0m\u001b[0;34m(\u001b[0m\u001b[0mmsg\u001b[0m\u001b[0;34m)\u001b[0m\u001b[0;34m\u001b[0m\u001b[0;34m\u001b[0m\u001b[0m\n\u001b[1;32m    143\u001b[0m     \u001b[0;32melse\u001b[0m\u001b[0;34m:\u001b[0m\u001b[0;34m\u001b[0m\u001b[0;34m\u001b[0m\u001b[0m\n\u001b[0;32m--> 144\u001b[0;31m       \u001b[0;32mraise\u001b[0m \u001b[0mFileNotFoundError\u001b[0m\u001b[0;34m(\u001b[0m\u001b[0mmsg\u001b[0m\u001b[0;34m)\u001b[0m  \u001b[0;31m# pylint: disable=undefined-variable\u001b[0m\u001b[0;34m\u001b[0m\u001b[0;34m\u001b[0m\u001b[0m\n\u001b[0m\u001b[1;32m    145\u001b[0m \u001b[0;34m\u001b[0m\u001b[0m\n\u001b[1;32m    146\u001b[0m   \u001b[0mstarted\u001b[0m \u001b[0;34m=\u001b[0m \u001b[0m_threading\u001b[0m\u001b[0;34m.\u001b[0m\u001b[0mEvent\u001b[0m\u001b[0;34m(\u001b[0m\u001b[0;34m)\u001b[0m\u001b[0;34m\u001b[0m\u001b[0;34m\u001b[0m\u001b[0m\n",
            "\u001b[0;31mFileNotFoundError\u001b[0m: Cannot find file: X_train.npy"
          ]
        }
      ]
    }
  ]
}