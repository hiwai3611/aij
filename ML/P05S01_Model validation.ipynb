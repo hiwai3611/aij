{
 "cells": [
  {
   "cell_type": "markdown",
   "metadata": {},
   "source": [
    "# モデル評価（k-fold法） "
   ]
  },
  {
   "cell_type": "markdown",
   "metadata": {},
   "source": [
    "データが十分に大きければ（例えば、訓練データで数百万レコード、検証データで数十万レコードの規模）、holdout法によるCV検証スコア（Cross ValidationのTESTデータの評価値）は安定するでしょうが、そうでない場合、holdoutのCV検証スコアがブレるであろうことが想像できます。そこで実質k回のholdoutを実施し、そのCV検証スコアの平均値を比較することで、より精緻にベストモデルの選択判断を行おうというものがk-fold法です。以下、実装例です。"
   ]
  },
  {
   "cell_type": "code",
   "execution_count": 1,
   "metadata": {},
   "outputs": [],
   "source": [
    "# Breast cancer wisconsin dataset (classification).\n",
    "import pandas as pd\n",
    "from sklearn.datasets import load_breast_cancer\n",
    "\n",
    "dataset = load_breast_cancer()\n",
    "X = pd.DataFrame(dataset.data, columns=dataset.feature_names)\n",
    "y = pd.DataFrame(dataset.target, columns=['y'])"
   ]
  },
  {
   "cell_type": "markdown",
   "metadata": {},
   "source": [
    "holdoutの実装はtrain_test_split、kfoldの実装はcross_val_scoreです。<br>まずは比較のためholdoutを実施。"
   ]
  },
  {
   "cell_type": "code",
   "execution_count": 2,
   "metadata": {},
   "outputs": [
    {
     "name": "stdout",
     "output_type": "stream",
     "text": [
      "CV_Test:0.982456\n"
     ]
    },
    {
     "name": "stderr",
     "output_type": "stream",
     "text": [
      "C:\\Users\\hiroa\\Anaconda3\\lib\\site-packages\\ipykernel_launcher.py:17: FutureWarning: Method .as_matrix will be removed in a future version. Use .values instead.\n",
      "C:\\Users\\hiroa\\Anaconda3\\lib\\site-packages\\ipykernel_launcher.py:19: FutureWarning: Method .as_matrix will be removed in a future version. Use .values instead.\n"
     ]
    }
   ],
   "source": [
    "from sklearn.model_selection import train_test_split\n",
    "from sklearn.preprocessing import StandardScaler\n",
    "from sklearn.linear_model import LogisticRegression\n",
    "from sklearn.metrics import accuracy_score\n",
    "from sklearn.pipeline import Pipeline\n",
    "\n",
    "# 比較のためholdoutの準備\n",
    "X_train,X_test,y_train,y_test=train_test_split(X,\n",
    "                                               y,\n",
    "                                               test_size=0.2,\n",
    "                                               random_state=1)\n",
    "# パイプラインのセット\n",
    "pipe_logistic = Pipeline([('scl',StandardScaler()),\n",
    "                          ('est',LogisticRegression(random_state=1))])\n",
    "# 学習\n",
    "pipe_logistic.fit(X_train,\n",
    "                  y_train.as_matrix().ravel())\n",
    "# 評価\n",
    "print('CV_Test:%.6f'%accuracy_score(y_test.as_matrix().ravel(),\n",
    "                                    pipe_logistic.predict(X_test)))"
   ]
  },
  {
   "cell_type": "markdown",
   "metadata": {},
   "source": [
    "次に、k=10のk-fold法によって異なる10個のCV検証スコアを取得します。実装は非常にシンプルで以下1行でできます。データ分割の処理を明示的に書く必要がない点に留意ください。渡しているデータはXとyです。"
   ]
  },
  {
   "cell_type": "code",
   "execution_count": 3,
   "metadata": {},
   "outputs": [
    {
     "name": "stdout",
     "output_type": "stream",
     "text": [
      "[0.98275862 0.98275862 0.98245614 0.98245614 0.98245614 0.98245614\n",
      " 0.94736842 1.         1.         0.98214286]\n"
     ]
    },
    {
     "name": "stderr",
     "output_type": "stream",
     "text": [
      "C:\\Users\\hiroa\\Anaconda3\\lib\\site-packages\\ipykernel_launcher.py:4: FutureWarning: Method .as_matrix will be removed in a future version. Use .values instead.\n",
      "  after removing the cwd from sys.path.\n"
     ]
    }
   ],
   "source": [
    "from sklearn.model_selection import cross_val_score\n",
    "cv_results = cross_val_score(pipe_logistic,\n",
    "                             X,\n",
    "                             y.as_matrix().ravel(),\n",
    "                             cv=10,\n",
    "                             scoring='accuracy')\n",
    "print(cv_results)"
   ]
  },
  {
   "cell_type": "markdown",
   "metadata": {},
   "source": [
    "CV検証スコアの平均値は、例えば、以下のように取得できます。"
   ]
  },
  {
   "cell_type": "code",
   "execution_count": 4,
   "metadata": {},
   "outputs": [
    {
     "name": "stdout",
     "output_type": "stream",
     "text": [
      "0.9824853080978307 +- 0.013590418300527833\n"
     ]
    }
   ],
   "source": [
    "print(cv_results.mean(),'+-', cv_results.std())"
   ]
  },
  {
   "cell_type": "markdown",
   "metadata": {},
   "source": [
    "以上から、CV検証スコアの平均は0.98程度、標準偏差は0.014と小さいことがわかりました。実務では、CV検証スコアの平均値を評価すれば十分なケースが多いですが、保守的に評価する必要がある場合、例えば、平均値ー標準偏差の序列でベストモデルを評価するなどしましょう。"
   ]
  }
 ],
 "metadata": {
  "kernelspec": {
   "display_name": "Python 3",
   "language": "python",
   "name": "python3"
  },
  "language_info": {
   "codemirror_mode": {
    "name": "ipython",
    "version": 3
   },
   "file_extension": ".py",
   "mimetype": "text/x-python",
   "name": "python",
   "nbconvert_exporter": "python",
   "pygments_lexer": "ipython3",
   "version": "3.6.5"
  }
 },
 "nbformat": 4,
 "nbformat_minor": 2
}
