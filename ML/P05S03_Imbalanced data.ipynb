{
 "cells": [
  {
   "cell_type": "markdown",
   "metadata": {},
   "source": [
    "## 不均衡データへの対応"
   ]
  },
  {
   "cell_type": "markdown",
   "metadata": {},
   "source": [
    "不均衡データへの対処を学びます。まず分類用のサンプルデータであるローン審査データを読み込みます。<br>データ前処理はone-hotエンコーディングと欠損値補完までを行っています。"
   ]
  },
  {
   "cell_type": "code",
   "execution_count": 1,
   "metadata": {},
   "outputs": [],
   "source": [
    "import pandas as pd\n",
    "from sklearn.preprocessing import Imputer\n",
    "\n",
    "# import data\n",
    "df = pd.read_csv('./data/av_loan_u6lujuX_CVtuZ9i.csv', header=0)\n",
    "X = df.iloc[:, :-1]           # 最終列外を特徴量X\n",
    "X = X.drop('Loan_ID', axis=1) # Loan_IDはID情報のため特徴量から削除\n",
    "y = df.iloc[:, [-1]]          # 最終列を正解データ\n",
    "\n",
    "# ローン審査でNOとなったサンプルを1に変換\n",
    "class_mapping = {'N':1, 'Y':0}\n",
    "y = y.copy()\n",
    "y.loc[:,'Loan_Status'] = y['Loan_Status'].map(class_mapping)"
   ]
  },
  {
   "cell_type": "code",
   "execution_count": 2,
   "metadata": {},
   "outputs": [
    {
     "data": {
      "text/html": [
       "<div>\n",
       "<style scoped>\n",
       "    .dataframe tbody tr th:only-of-type {\n",
       "        vertical-align: middle;\n",
       "    }\n",
       "\n",
       "    .dataframe tbody tr th {\n",
       "        vertical-align: top;\n",
       "    }\n",
       "\n",
       "    .dataframe thead th {\n",
       "        text-align: right;\n",
       "    }\n",
       "</style>\n",
       "<table border=\"1\" class=\"dataframe\">\n",
       "  <thead>\n",
       "    <tr style=\"text-align: right;\">\n",
       "      <th></th>\n",
       "      <th>ApplicantIncome</th>\n",
       "      <th>CoapplicantIncome</th>\n",
       "      <th>LoanAmount</th>\n",
       "      <th>Loan_Amount_Term</th>\n",
       "      <th>Credit_History</th>\n",
       "      <th>Dependents_0</th>\n",
       "      <th>Dependents_1</th>\n",
       "      <th>Dependents_2</th>\n",
       "      <th>Dependents_3+</th>\n",
       "      <th>Dependents_nan</th>\n",
       "      <th>...</th>\n",
       "      <th>Education_Graduate</th>\n",
       "      <th>Education_Not Graduate</th>\n",
       "      <th>Education_nan</th>\n",
       "      <th>Self_Employed_No</th>\n",
       "      <th>Self_Employed_Yes</th>\n",
       "      <th>Self_Employed_nan</th>\n",
       "      <th>Property_Area_Rural</th>\n",
       "      <th>Property_Area_Semiurban</th>\n",
       "      <th>Property_Area_Urban</th>\n",
       "      <th>Property_Area_nan</th>\n",
       "    </tr>\n",
       "  </thead>\n",
       "  <tbody>\n",
       "    <tr>\n",
       "      <th>0</th>\n",
       "      <td>5849.0</td>\n",
       "      <td>0.0</td>\n",
       "      <td>146.412162</td>\n",
       "      <td>360.0</td>\n",
       "      <td>1.0</td>\n",
       "      <td>1.0</td>\n",
       "      <td>0.0</td>\n",
       "      <td>0.0</td>\n",
       "      <td>0.0</td>\n",
       "      <td>0.0</td>\n",
       "      <td>...</td>\n",
       "      <td>1.0</td>\n",
       "      <td>0.0</td>\n",
       "      <td>0.0</td>\n",
       "      <td>1.0</td>\n",
       "      <td>0.0</td>\n",
       "      <td>0.0</td>\n",
       "      <td>0.0</td>\n",
       "      <td>0.0</td>\n",
       "      <td>1.0</td>\n",
       "      <td>0.0</td>\n",
       "    </tr>\n",
       "    <tr>\n",
       "      <th>1</th>\n",
       "      <td>4583.0</td>\n",
       "      <td>1508.0</td>\n",
       "      <td>128.000000</td>\n",
       "      <td>360.0</td>\n",
       "      <td>1.0</td>\n",
       "      <td>0.0</td>\n",
       "      <td>1.0</td>\n",
       "      <td>0.0</td>\n",
       "      <td>0.0</td>\n",
       "      <td>0.0</td>\n",
       "      <td>...</td>\n",
       "      <td>1.0</td>\n",
       "      <td>0.0</td>\n",
       "      <td>0.0</td>\n",
       "      <td>1.0</td>\n",
       "      <td>0.0</td>\n",
       "      <td>0.0</td>\n",
       "      <td>1.0</td>\n",
       "      <td>0.0</td>\n",
       "      <td>0.0</td>\n",
       "      <td>0.0</td>\n",
       "    </tr>\n",
       "    <tr>\n",
       "      <th>2</th>\n",
       "      <td>3000.0</td>\n",
       "      <td>0.0</td>\n",
       "      <td>66.000000</td>\n",
       "      <td>360.0</td>\n",
       "      <td>1.0</td>\n",
       "      <td>1.0</td>\n",
       "      <td>0.0</td>\n",
       "      <td>0.0</td>\n",
       "      <td>0.0</td>\n",
       "      <td>0.0</td>\n",
       "      <td>...</td>\n",
       "      <td>1.0</td>\n",
       "      <td>0.0</td>\n",
       "      <td>0.0</td>\n",
       "      <td>0.0</td>\n",
       "      <td>1.0</td>\n",
       "      <td>0.0</td>\n",
       "      <td>0.0</td>\n",
       "      <td>0.0</td>\n",
       "      <td>1.0</td>\n",
       "      <td>0.0</td>\n",
       "    </tr>\n",
       "    <tr>\n",
       "      <th>3</th>\n",
       "      <td>2583.0</td>\n",
       "      <td>2358.0</td>\n",
       "      <td>120.000000</td>\n",
       "      <td>360.0</td>\n",
       "      <td>1.0</td>\n",
       "      <td>1.0</td>\n",
       "      <td>0.0</td>\n",
       "      <td>0.0</td>\n",
       "      <td>0.0</td>\n",
       "      <td>0.0</td>\n",
       "      <td>...</td>\n",
       "      <td>0.0</td>\n",
       "      <td>1.0</td>\n",
       "      <td>0.0</td>\n",
       "      <td>1.0</td>\n",
       "      <td>0.0</td>\n",
       "      <td>0.0</td>\n",
       "      <td>0.0</td>\n",
       "      <td>0.0</td>\n",
       "      <td>1.0</td>\n",
       "      <td>0.0</td>\n",
       "    </tr>\n",
       "    <tr>\n",
       "      <th>4</th>\n",
       "      <td>6000.0</td>\n",
       "      <td>0.0</td>\n",
       "      <td>141.000000</td>\n",
       "      <td>360.0</td>\n",
       "      <td>1.0</td>\n",
       "      <td>1.0</td>\n",
       "      <td>0.0</td>\n",
       "      <td>0.0</td>\n",
       "      <td>0.0</td>\n",
       "      <td>0.0</td>\n",
       "      <td>...</td>\n",
       "      <td>1.0</td>\n",
       "      <td>0.0</td>\n",
       "      <td>0.0</td>\n",
       "      <td>1.0</td>\n",
       "      <td>0.0</td>\n",
       "      <td>0.0</td>\n",
       "      <td>0.0</td>\n",
       "      <td>0.0</td>\n",
       "      <td>1.0</td>\n",
       "      <td>0.0</td>\n",
       "    </tr>\n",
       "  </tbody>\n",
       "</table>\n",
       "<p>5 rows × 26 columns</p>\n",
       "</div>"
      ],
      "text/plain": [
       "   ApplicantIncome  CoapplicantIncome  LoanAmount  Loan_Amount_Term  \\\n",
       "0           5849.0                0.0  146.412162             360.0   \n",
       "1           4583.0             1508.0  128.000000             360.0   \n",
       "2           3000.0                0.0   66.000000             360.0   \n",
       "3           2583.0             2358.0  120.000000             360.0   \n",
       "4           6000.0                0.0  141.000000             360.0   \n",
       "\n",
       "   Credit_History  Dependents_0  Dependents_1  Dependents_2  Dependents_3+  \\\n",
       "0             1.0           1.0           0.0           0.0            0.0   \n",
       "1             1.0           0.0           1.0           0.0            0.0   \n",
       "2             1.0           1.0           0.0           0.0            0.0   \n",
       "3             1.0           1.0           0.0           0.0            0.0   \n",
       "4             1.0           1.0           0.0           0.0            0.0   \n",
       "\n",
       "   Dependents_nan        ...          Education_Graduate  \\\n",
       "0             0.0        ...                         1.0   \n",
       "1             0.0        ...                         1.0   \n",
       "2             0.0        ...                         1.0   \n",
       "3             0.0        ...                         0.0   \n",
       "4             0.0        ...                         1.0   \n",
       "\n",
       "   Education_Not Graduate  Education_nan  Self_Employed_No  Self_Employed_Yes  \\\n",
       "0                     0.0            0.0               1.0                0.0   \n",
       "1                     0.0            0.0               1.0                0.0   \n",
       "2                     0.0            0.0               0.0                1.0   \n",
       "3                     1.0            0.0               1.0                0.0   \n",
       "4                     0.0            0.0               1.0                0.0   \n",
       "\n",
       "   Self_Employed_nan  Property_Area_Rural  Property_Area_Semiurban  \\\n",
       "0                0.0                  0.0                      0.0   \n",
       "1                0.0                  1.0                      0.0   \n",
       "2                0.0                  0.0                      0.0   \n",
       "3                0.0                  0.0                      0.0   \n",
       "4                0.0                  0.0                      0.0   \n",
       "\n",
       "   Property_Area_Urban  Property_Area_nan  \n",
       "0                  1.0                0.0  \n",
       "1                  0.0                0.0  \n",
       "2                  1.0                0.0  \n",
       "3                  1.0                0.0  \n",
       "4                  1.0                0.0  \n",
       "\n",
       "[5 rows x 26 columns]"
      ]
     },
     "metadata": {},
     "output_type": "display_data"
    }
   ],
   "source": [
    "# one-hot エンコーディング\n",
    "ohe_columns = ['Dependents','Gender','Married','Education','Self_Employed','Property_Area']\n",
    "X_ohe = pd.get_dummies(X, dummy_na=True, columns=ohe_columns)\n",
    "\n",
    "# 欠損値補完(平均値置換,処理は列方向)\n",
    "imp = Imputer(missing_values='NaN', strategy='mean', axis=0)\n",
    "imp.fit(X_ohe)\n",
    "X_ohe_columns = X_ohe.columns.values\n",
    "X_ohe = pd.DataFrame(imp.transform(X_ohe), columns=X_ohe_columns)\n",
    "\n",
    "# 結果表示\n",
    "display(X_ohe.head())"
   ]
  },
  {
   "cell_type": "markdown",
   "metadata": {},
   "source": [
    "### アンダーサンプリング"
   ]
  },
  {
   "cell_type": "markdown",
   "metadata": {},
   "source": [
    "アンダーサンプリングの実装例です。<br>負例（422件）が正例の件数（192件）まで削減されていることが確認できます。"
   ]
  },
  {
   "cell_type": "code",
   "execution_count": 3,
   "metadata": {},
   "outputs": [
    {
     "name": "stderr",
     "output_type": "stream",
     "text": [
      "C:\\Users\\hiroa\\Anaconda3\\lib\\site-packages\\ipykernel_launcher.py:5: FutureWarning: Method .as_matrix will be removed in a future version. Use .values instead.\n",
      "  \"\"\"\n"
     ]
    },
    {
     "data": {
      "text/plain": [
       "Counter({0: 192, 1: 192})"
      ]
     },
     "execution_count": 3,
     "metadata": {},
     "output_type": "execute_result"
    }
   ],
   "source": [
    "# ランダムアンダーサンプリング\n",
    "from collections import Counter\n",
    "from imblearn.under_sampling import RandomUnderSampler\n",
    "rus = RandomUnderSampler(random_state=0)\n",
    "X_under, y_under = rus.fit_sample(X_ohe, y.as_matrix().ravel())\n",
    "Counter(y_under)"
   ]
  },
  {
   "cell_type": "markdown",
   "metadata": {},
   "source": [
    "### オーバーサンプリング"
   ]
  },
  {
   "cell_type": "markdown",
   "metadata": {},
   "source": [
    "以下、オーバーサンプリングの実装例です。<br>正例（192件）が負例の件数（422件）まで増加していることが確認できます。"
   ]
  },
  {
   "cell_type": "code",
   "execution_count": 4,
   "metadata": {},
   "outputs": [
    {
     "name": "stdout",
     "output_type": "stream",
     "text": [
      "Random Over Sampler Counter({0: 422, 1: 422})\n",
      "SMOTE Counter({0: 422, 1: 422})\n"
     ]
    },
    {
     "name": "stderr",
     "output_type": "stream",
     "text": [
      "C:\\Users\\hiroa\\Anaconda3\\lib\\site-packages\\ipykernel_launcher.py:7: FutureWarning: Method .as_matrix will be removed in a future version. Use .values instead.\n",
      "  import sys\n",
      "C:\\Users\\hiroa\\Anaconda3\\lib\\site-packages\\ipykernel_launcher.py:8: FutureWarning: Method .as_matrix will be removed in a future version. Use .values instead.\n",
      "  \n"
     ]
    }
   ],
   "source": [
    "# ランダムオーバーサンプリング, SMOTE\n",
    "from imblearn.over_sampling import RandomOverSampler,SMOTE\n",
    "\n",
    "ros = RandomOverSampler(random_state=0)\n",
    "smt = SMOTE(random_state=0)\n",
    "\n",
    "X_over,y_over = ros.fit_sample(X_ohe, y.as_matrix().ravel())\n",
    "X_smt,y_smt = smt.fit_sample(X_ohe, y.as_matrix().ravel())\n",
    "\n",
    "print('Random Over Sampler',Counter(y_over))\n",
    "print('SMOTE', Counter(y_smt))"
   ]
  },
  {
   "cell_type": "markdown",
   "metadata": {},
   "source": [
    "最後に、不均衡対応別のモデルの比較評価の実装例を確認します。<b><br>モデルの評価用データはリサンプリング前に確保されるべきで点に留意しましょう。</b>"
   ]
  },
  {
   "cell_type": "code",
   "execution_count": 5,
   "metadata": {},
   "outputs": [
    {
     "name": "stderr",
     "output_type": "stream",
     "text": [
      "C:\\Users\\hiroa\\Anaconda3\\lib\\site-packages\\ipykernel_launcher.py:13: FutureWarning: Method .as_matrix will be removed in a future version. Use .values instead.\n",
      "  del sys.path[0]\n",
      "C:\\Users\\hiroa\\Anaconda3\\lib\\site-packages\\ipykernel_launcher.py:14: FutureWarning: Method .as_matrix will be removed in a future version. Use .values instead.\n",
      "  \n"
     ]
    },
    {
     "name": "stdout",
     "output_type": "stream",
     "text": [
      "Original Train: 0.7940074906367042\n",
      "Original Test: 0.6181818181818182\n",
      "Undersampling Train: 0.9411764705882353\n",
      "Undersampling Test: 0.6024096385542169\n",
      "Oversampling Train: 0.9079365079365079\n",
      "Oversampling Test: 0.6086956521739131\n",
      "SMOTE Train: 0.8990228013029316\n",
      "SMOTE Test: 0.5555555555555556\n"
     ]
    }
   ],
   "source": [
    "from sklearn.model_selection import train_test_split\n",
    "from sklearn.preprocessing import StandardScaler\n",
    "from sklearn.ensemble import GradientBoostingClassifier\n",
    "from sklearn.pipeline import Pipeline\n",
    "from sklearn.metrics import accuracy_score,f1_score\n",
    "\n",
    "# holdout\n",
    "X_train,X_test,y_train,y_test= train_test_split(X_ohe,\n",
    "                                                y,\n",
    "                                                test_size=0.20,\n",
    "                                                random_state=0)\n",
    "# 整形\n",
    "y_train = y_train.as_matrix().ravel()\n",
    "y_test = y_test.as_matrix().ravel()\n",
    "\n",
    "# resampling\n",
    "X_train_under, y_train_under = rus.fit_sample(X_train, y_train)\n",
    "X_train_over, y_train_over = ros.fit_sample(X_train, y_train)\n",
    "X_train_smt, y_train_smt = smt.fit_sample(X_train, y_train)\n",
    "\n",
    "# modeling\n",
    "pipe_gb = Pipeline([('scl',StandardScaler()),\n",
    "                    ('est',GradientBoostingClassifier(random_state=1))])\n",
    "# evaluation\n",
    "###############################################\n",
    "pipe_gb.fit(X_train,\n",
    "            y_train)\n",
    "print('Original Train:', \n",
    "      f1_score(y_train,\n",
    "               pipe_gb.predict(X_train)))\n",
    "print('Original Test:', \n",
    "      f1_score(y_test,\n",
    "               pipe_gb.predict(X_test)))\n",
    "###############################################\n",
    "pipe_gb.fit(X_train_under,\n",
    "            y_train_under)\n",
    "print('Undersampling Train:',\n",
    "      f1_score(y_train_under,\n",
    "               pipe_gb.predict(X_train_under)))\n",
    "print('Undersampling Test:', \n",
    "      f1_score(y_test,\n",
    "               pipe_gb.predict(X_test)))\n",
    "###############################################\n",
    "pipe_gb.fit(X_train_over,\n",
    "            y_train_over)\n",
    "print('Oversampling Train:',\n",
    "      f1_score(y_train_over,\n",
    "               pipe_gb.predict(X_train_over)))\n",
    "print('Oversampling Test:',\n",
    "      f1_score(y_test,\n",
    "               pipe_gb.predict(X_test)))\n",
    "###############################################\n",
    "pipe_gb.fit(X_train_smt,\n",
    "            y_train_smt)\n",
    "print('SMOTE Train:',\n",
    "      f1_score(y_train_smt,\n",
    "               pipe_gb.predict(X_train_smt)))\n",
    "print('SMOTE Test:',\n",
    "      f1_score(y_test,\n",
    "               pipe_gb.predict(X_test)))"
   ]
  },
  {
   "cell_type": "markdown",
   "metadata": {},
   "source": [
    "上記結果から、本データについては不均衡を「完全に解消する」メリットは見られませんでした。不均衡を解消する前のモデルパフォーマンスを定量的に把握した上で、不均衡をどの程度解消するとパフォーマンスがどのように変化するかを記録し、データに即し、エビデンスを持った対応を心掛けましょう。"
   ]
  }
 ],
 "metadata": {
  "kernelspec": {
   "display_name": "Python 3",
   "language": "python",
   "name": "python3"
  },
  "language_info": {
   "codemirror_mode": {
    "name": "ipython",
    "version": 3
   },
   "file_extension": ".py",
   "mimetype": "text/x-python",
   "name": "python",
   "nbconvert_exporter": "python",
   "pygments_lexer": "ipython3",
   "version": "3.6.5"
  }
 },
 "nbformat": 4,
 "nbformat_minor": 2
}
